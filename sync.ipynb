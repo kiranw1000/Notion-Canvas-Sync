{
 "cells": [
  {
   "cell_type": "code",
   "execution_count": 1,
   "metadata": {},
   "outputs": [],
   "source": [
    "from canvasapi import Canvas, assignment\n",
    "import canvasapi as cnv\n",
    "from tokens import canvas_token, notion_token\n",
    "from notion_client import Client\n",
    "from datetime import datetime,timedelta\n",
    "import pytz"
   ]
  },
  {
   "cell_type": "code",
   "execution_count": 2,
   "metadata": {},
   "outputs": [],
   "source": [
    "nclient = Client(auth=notion_token)\n",
    "API_URL = \"https://osu.instructure.com/\"\n",
    "API_KEY = canvas_token\n",
    "canvas = Canvas(API_URL,API_KEY)\n",
    "kiran = canvas.get_current_user()\n",
    "courses = [x for x in kiran.get_courses()]\n",
    "for x in courses:\n",
    "     if x.enrollment_term_id != 163:\n",
    "          courses.remove(x)\n",
    "db_id = \"57c6c1fdb5b54861af2fb7787344b4fc\"\n",
    "subjects = {\n",
    "     'AU22 CSE 2221 - SW 1: Components (35445)':{'id': '8d669188-3c5e-4fea-84e4-2cb3fcf74ca8','name': 'Software Engineering 2221','color': 'yellow'},\n",
    "     'AU22 ENGR 1181.01 - Fund Engr 1 (7063)':{'id': '9ff6a39b-c700-4ab7-9d66-29d963f01e8f','name': 'Intro to Engineering','color': 'green'},\n",
    "     'AU22 ARTSSCI 1100.01H - ASC College Survey (15218)':{'id': 'e18cd657-84af-4152-a783-be92991ca93b','name': 'Art Sci Survey','color': 'default'},\n",
    "     'AU22 PHYSICS 1250H - Mechanics, Spc Rel (20281)':{'id': '6dcb6cd3-3d2c-46d5-a070-f6f8bdb6969c','name': 'Physics 1250H','color': 'purple'},\n",
    "     'AU22 MATH 2153 - Calculus 3 (18401)':{'id': '85591cad-2e1b-44f7-b06f-05f45a081c95','name': 'Calc 2153','color': 'red'},\n",
    "     'AU22 ARTSSCI 1138.07 - First-Year Seminar (26389)':{'id': 'f4a7698c-1bd1-45b5-8474-db25bad5eee3','name': 'Stoicism','color': 'gray'}}"
   ]
  },
  {
   "cell_type": "code",
   "execution_count": 3,
   "metadata": {},
   "outputs": [],
   "source": [
    "def get_schema(assignment:assignment,subject_dict:dict,course:str):\n",
    "    backlog = {'id': '1', 'name': 'Backlog', 'color': 'red'}\n",
    "    week_backlog = {'id': '2', 'name': 'Week Backlog', 'color': 'yellow'} \n",
    "    status = \"\"\n",
    "    if assignment.due_at_date.date()-datetime.today().date()<=timedelta(days=7):\n",
    "        status = week_backlog\n",
    "    else:\n",
    "        status = backlog\n",
    "    if course in subject_dict.keys():\n",
    "        subject = subject_dict[course]\n",
    "    else:\n",
    "        subject = {'name':course}\n",
    "    schema = {\n",
    "    \"Status\":{\"select\": status},\n",
    "    'Name': {\"title\": [{\"type\":\"text\",\"text\":{\"content\":assignment.name}}]},\n",
    "    \"Subject\":{\"select\":subject},\n",
    "    \"Due Date\":{\"date\":{\"start\":datetime.strptime(assignment.due_at,\"%Y-%m-%dT%H:%M:%S%z\").astimezone(pytz.timezone('US/Eastern')).strftime(\"%Y-%m-%dT%H:%M:%S%z\")}},\n",
    "    \"Link\":{\"url\":assignment.html_url},\n",
    "    \"Time to complete\":{\"select\":{'id': 'b261419e-254f-44b9-8788-1532a54646fb','name': 'About an hour','color': 'red'}}\n",
    "    }\n",
    "    return schema"
   ]
  },
  {
   "cell_type": "code",
   "execution_count": 4,
   "metadata": {},
   "outputs": [],
   "source": [
    "def add_assignment(assignment:assignment,subject_dict:dict,course:str):\n",
    "    return nclient.pages.create(**{\"parent\":{\"type\":\"database_id\",\"database_id\":db_id},\"properties\":get_schema(assignment,subjects,course)})\n"
   ]
  },
  {
   "cell_type": "code",
   "execution_count": 5,
   "metadata": {},
   "outputs": [],
   "source": [
    "def update_course(course:cnv.course.Course,subject_dict:dict):\n",
    "    course_assignments = [y for y in kiran.get_assignments(course)]\n",
    "    for x in course_assignments:\n",
    "        if course.name in subject_dict.keys():\n",
    "            subject = subject_dict[course.name]['name']\n",
    "        else:\n",
    "            subject = course.name\n",
    "        if len(nclient.databases.query(**{\"database_id\":db_id,\"filter\":{\"and\":[{\"property\":\"Name\",\"title\":{\"contains\":x.name}},{\"property\":\"Subject\",\"select\":{\"equals\":subject}}]}})['results'])<1 and x.get_submission(kiran).submitted_at==None and x.due_at!=None:\n",
    "            print(x)\n",
    "            print(add_assignment(assignment=x,subject_dict=subject_dict,course=course.name)['properties']['Name'])"
   ]
  },
  {
   "cell_type": "code",
   "execution_count": 6,
   "metadata": {},
   "outputs": [],
   "source": [
    "def update_all(courses:list,subject_dict:dict):\n",
    "    backlog = {'id': '1', 'name': 'Backlog', 'color': 'red'}\n",
    "    week_backlog = {'id': '2', 'name': 'Week Backlog', 'color': 'yellow'} \n",
    "    backloglist = nclient.databases.query(**{\"database_id\":db_id,\"filter\":{\"property\":\"Status\",\"select\":{\"equals\":\"Backlog\"}}})['results']\n",
    "    for page in backloglist:\n",
    "        date = datetime.fromisoformat(page['properties']['Due Date']['date']['start'])\n",
    "        if date.date()-datetime.today().date()<timedelta(days=7):\n",
    "            nclient.pages.update(page['id'],**{'properties':{'Status':{'select':week_backlog}}})\n",
    "    for x in courses:\n",
    "        update_course(x,subject_dict)"
   ]
  },
  {
   "cell_type": "code",
   "execution_count": 7,
   "metadata": {},
   "outputs": [],
   "source": [
    "update_all(courses=courses,subject_dict=subjects)"
   ]
  },
  {
   "cell_type": "code",
   "execution_count": 17,
   "metadata": {},
   "outputs": [
    {
     "name": "stdout",
     "output_type": "stream",
     "text": [
      "{'_requester': <canvasapi.requester.Requester object at 0x7fdadeb28190>, 'id': 132981, 'name': 'A+ Research: Where Do You Start? Nov 22', 'account_id': 473, 'uuid': 'Lge2h5HgjEj7TUTbbuoPwA4Aa7dKs3CXhI1JTQQD', 'start_at': '2022-10-31T03:59:00Z', 'start_at_date': datetime.datetime(2022, 10, 31, 3, 59, tzinfo=<UTC>), 'grading_standard_id': None, 'is_public': False, 'created_at': '2022-10-25T16:23:30Z', 'created_at_date': datetime.datetime(2022, 10, 25, 16, 23, 30, tzinfo=<UTC>), 'course_code': 'A+ 22', 'default_view': 'modules', 'root_account_id': 1, 'enrollment_term_id': 6, 'license': 'private', 'grade_passback_setting': None, 'end_at': '2022-12-03T04:59:00Z', 'end_at_date': datetime.datetime(2022, 12, 3, 4, 59, tzinfo=<UTC>), 'public_syllabus': False, 'public_syllabus_to_auth': False, 'storage_quota_mb': 750, 'is_public_to_auth_users': False, 'homeroom_course': False, 'course_color': None, 'friendly_name': None, 'apply_assignment_group_weights': False, 'calendar': {'ics': 'https://osu.instructure.com/feeds/calendars/course_Lge2h5HgjEj7TUTbbuoPwA4Aa7dKs3CXhI1JTQQD.ics'}, 'time_zone': 'America/New_York', 'blueprint': False, 'template': False, 'enrollments': [{'type': 'student', 'role': 'StudentEnrollment', 'role_id': 3, 'user_id': 1036620, 'enrollment_state': 'active', 'limit_privileges_to_course_section': False}], 'hide_final_grades': False, 'workflow_state': 'available', 'restrict_enrollments_to_course_dates': True}\n",
      "{'_requester': <canvasapi.requester.Requester object at 0x7fdadeb28190>, 'id': 128095, 'name': 'Accessing Your Library AU22 FYSS', 'account_id': 473, 'uuid': 'p5i5h4p9dvluCP4nL8MFBgPqMxlfqYgAya42iANL', 'start_at': '2022-08-01T04:00:00Z', 'start_at_date': datetime.datetime(2022, 8, 1, 4, 0, tzinfo=<UTC>), 'grading_standard_id': None, 'is_public': False, 'created_at': '2022-08-11T16:51:20Z', 'created_at_date': datetime.datetime(2022, 8, 11, 16, 51, 20, tzinfo=<UTC>), 'course_code': 'Accessing AU22', 'default_view': 'modules', 'root_account_id': 1, 'enrollment_term_id': 6, 'license': 'private', 'grade_passback_setting': None, 'end_at': '2022-12-30T05:00:00Z', 'end_at_date': datetime.datetime(2022, 12, 30, 5, 0, tzinfo=<UTC>), 'public_syllabus': False, 'public_syllabus_to_auth': False, 'storage_quota_mb': 750, 'is_public_to_auth_users': False, 'homeroom_course': False, 'course_color': None, 'friendly_name': None, 'apply_assignment_group_weights': False, 'calendar': {'ics': 'https://osu.instructure.com/feeds/calendars/course_p5i5h4p9dvluCP4nL8MFBgPqMxlfqYgAya42iANL.ics'}, 'time_zone': 'America/New_York', 'blueprint': False, 'template': False, 'enrollments': [{'type': 'student', 'role': 'StudentEnrollment', 'role_id': 3, 'user_id': 1036620, 'enrollment_state': 'active', 'limit_privileges_to_course_section': False}], 'hide_final_grades': False, 'workflow_state': 'available', 'restrict_enrollments_to_course_dates': True}\n",
      "{'_requester': <canvasapi.requester.Requester object at 0x7fdadeb28190>, 'id': 130022, 'name': 'AU22 ARTSSCI 1100.01H - ASC College Survey (15218)', 'account_id': 1382, 'uuid': 'leB6Yf81CX4Fm1HQhLsWCIEG0eHgbdF8exRYozal', 'start_at': None, 'grading_standard_id': 1585, 'is_public': False, 'created_at': '2022-08-18T15:21:32Z', 'created_at_date': datetime.datetime(2022, 8, 18, 15, 21, 32, tzinfo=<UTC>), 'course_code': 'ARTSSCI 1100.01H AU2022 (15218)', 'default_view': 'modules', 'root_account_id': 1, 'enrollment_term_id': 163, 'license': 'private', 'grade_passback_setting': None, 'end_at': None, 'public_syllabus': False, 'public_syllabus_to_auth': False, 'storage_quota_mb': 750, 'is_public_to_auth_users': False, 'homeroom_course': False, 'course_color': None, 'friendly_name': None, 'apply_assignment_group_weights': False, 'calendar': {'ics': 'https://osu.instructure.com/feeds/calendars/course_leB6Yf81CX4Fm1HQhLsWCIEG0eHgbdF8exRYozal.ics'}, 'time_zone': 'America/New_York', 'blueprint': False, 'template': False, 'enrollments': [{'type': 'student', 'role': 'StudentEnrollment', 'role_id': 3, 'user_id': 1036620, 'enrollment_state': 'active', 'limit_privileges_to_course_section': False}], 'hide_final_grades': False, 'workflow_state': 'available', 'restrict_enrollments_to_course_dates': False}\n",
      "{'_requester': <canvasapi.requester.Requester object at 0x7fdadeb28190>, 'id': 130514, 'name': 'AU22 ARTSSCI 1138.07 - First-Year Seminar (26389)', 'account_id': 2023, 'uuid': 'LLLk269uavuMTTSveFBbETXNjuBlcAsw1GcekFeg', 'start_at': None, 'grading_standard_id': 1585, 'is_public': False, 'created_at': '2022-08-19T16:38:19Z', 'created_at_date': datetime.datetime(2022, 8, 19, 16, 38, 19, tzinfo=<UTC>), 'course_code': 'ARTSSCI 1138.07 AU2022 (26389)', 'default_view': 'wiki', 'root_account_id': 1, 'enrollment_term_id': 163, 'license': 'private', 'grade_passback_setting': None, 'end_at': None, 'public_syllabus': False, 'public_syllabus_to_auth': False, 'storage_quota_mb': 750, 'is_public_to_auth_users': False, 'homeroom_course': False, 'course_color': None, 'friendly_name': None, 'apply_assignment_group_weights': False, 'calendar': {'ics': 'https://osu.instructure.com/feeds/calendars/course_LLLk269uavuMTTSveFBbETXNjuBlcAsw1GcekFeg.ics'}, 'time_zone': 'America/New_York', 'blueprint': False, 'template': False, 'enrollments': [{'type': 'student', 'role': 'StudentEnrollment', 'role_id': 3, 'user_id': 1036620, 'enrollment_state': 'active', 'limit_privileges_to_course_section': False}], 'hide_final_grades': False, 'workflow_state': 'available', 'restrict_enrollments_to_course_dates': False}\n",
      "{'_requester': <canvasapi.requester.Requester object at 0x7fdadeb28190>, 'id': 130577, 'name': 'AU22 CSE 2221 - SW 1: Components (35445)', 'account_id': 367, 'uuid': 'Kb3bVexbbvr3Y7RzWZ68OAWB2K8hOp1B0qynzjKR', 'start_at': None, 'grading_standard_id': 1585, 'is_public': False, 'created_at': '2022-08-19T18:12:29Z', 'created_at_date': datetime.datetime(2022, 8, 19, 18, 12, 29, tzinfo=<UTC>), 'course_code': 'CSE 2221 AU2022 (35445)', 'default_view': 'syllabus', 'root_account_id': 1, 'enrollment_term_id': 163, 'license': 'private', 'grade_passback_setting': None, 'end_at': None, 'public_syllabus': False, 'public_syllabus_to_auth': False, 'storage_quota_mb': 750, 'is_public_to_auth_users': False, 'homeroom_course': False, 'course_color': None, 'friendly_name': None, 'apply_assignment_group_weights': True, 'calendar': {'ics': 'https://osu.instructure.com/feeds/calendars/course_Kb3bVexbbvr3Y7RzWZ68OAWB2K8hOp1B0qynzjKR.ics'}, 'time_zone': 'America/New_York', 'blueprint': False, 'template': False, 'enrollments': [{'type': 'student', 'role': 'StudentEnrollment', 'role_id': 3, 'user_id': 1036620, 'enrollment_state': 'active', 'limit_privileges_to_course_section': False}, {'type': 'student', 'role': 'StudentEnrollment', 'role_id': 3, 'user_id': 1036620, 'enrollment_state': 'active', 'limit_privileges_to_course_section': False}], 'hide_final_grades': False, 'workflow_state': 'available', 'restrict_enrollments_to_course_dates': False}\n",
      "{'_requester': <canvasapi.requester.Requester object at 0x7fdadeb28190>, 'id': 129305, 'name': 'AU22 ENGR 1181.01 - Fund Engr 1 (7063)', 'account_id': 1182, 'uuid': 'lHRELPUhkZAMbpw8wW9kxXz9ugGYYE0oA0QZIFDk', 'start_at': None, 'grading_standard_id': 190, 'is_public': False, 'created_at': '2022-08-16T17:18:18Z', 'created_at_date': datetime.datetime(2022, 8, 16, 17, 18, 18, tzinfo=<UTC>), 'course_code': 'ENGR 1181.01 AU2022 (7063)', 'default_view': 'wiki', 'root_account_id': 1, 'enrollment_term_id': 163, 'license': 'private', 'grade_passback_setting': None, 'end_at': None, 'public_syllabus': False, 'public_syllabus_to_auth': False, 'storage_quota_mb': 750, 'is_public_to_auth_users': False, 'homeroom_course': False, 'course_color': None, 'friendly_name': None, 'apply_assignment_group_weights': True, 'calendar': {'ics': 'https://osu.instructure.com/feeds/calendars/course_lHRELPUhkZAMbpw8wW9kxXz9ugGYYE0oA0QZIFDk.ics'}, 'time_zone': 'America/New_York', 'blueprint': False, 'template': False, 'enrollments': [{'type': 'student', 'role': 'StudentEnrollment', 'role_id': 3, 'user_id': 1036620, 'enrollment_state': 'active', 'limit_privileges_to_course_section': False}, {'type': 'student', 'role': 'StudentEnrollment', 'role_id': 3, 'user_id': 1036620, 'enrollment_state': 'active', 'limit_privileges_to_course_section': False}], 'hide_final_grades': False, 'workflow_state': 'available', 'restrict_enrollments_to_course_dates': False}\n",
      "{'_requester': <canvasapi.requester.Requester object at 0x7fdadeb28190>, 'id': 130575, 'name': 'AU22 MATH 2153 - Calculus 3 (18401)', 'account_id': 1545, 'uuid': 'gZr7VafdKmYQRYwIGcSA11fVj0zbFNjWOJNJDnZD', 'start_at': None, 'grading_standard_id': 1585, 'is_public': False, 'created_at': '2022-08-19T18:10:11Z', 'created_at_date': datetime.datetime(2022, 8, 19, 18, 10, 11, tzinfo=<UTC>), 'course_code': 'MATH 2153 AU2022 (18401)', 'default_view': 'modules', 'root_account_id': 1, 'enrollment_term_id': 163, 'license': 'private', 'grade_passback_setting': None, 'end_at': None, 'public_syllabus': False, 'public_syllabus_to_auth': False, 'storage_quota_mb': 750, 'is_public_to_auth_users': False, 'homeroom_course': False, 'course_color': None, 'friendly_name': None, 'apply_assignment_group_weights': True, 'calendar': {'ics': 'https://osu.instructure.com/feeds/calendars/course_gZr7VafdKmYQRYwIGcSA11fVj0zbFNjWOJNJDnZD.ics'}, 'time_zone': 'America/New_York', 'blueprint': False, 'template': False, 'enrollments': [{'type': 'student', 'role': 'StudentEnrollment', 'role_id': 3, 'user_id': 1036620, 'enrollment_state': 'active', 'limit_privileges_to_course_section': False}, {'type': 'student', 'role': 'StudentEnrollment', 'role_id': 3, 'user_id': 1036620, 'enrollment_state': 'active', 'limit_privileges_to_course_section': False}], 'hide_final_grades': False, 'workflow_state': 'available', 'restrict_enrollments_to_course_dates': False}\n",
      "{'_requester': <canvasapi.requester.Requester object at 0x7fdadeb28190>, 'id': 126865, 'name': 'AU22 PHYSICS 1250H - Mechanics, Spc Rel (20281)', 'account_id': 1561, 'uuid': '38P3LBRz9iGCoXTHtad6hUjMfCvL3WUun8Od3dke', 'start_at': None, 'grading_standard_id': 1585, 'is_public': False, 'created_at': '2022-08-05T12:43:13Z', 'created_at_date': datetime.datetime(2022, 8, 5, 12, 43, 13, tzinfo=<UTC>), 'course_code': 'PHYSICS 1250H AU2022 (20281)', 'default_view': 'wiki', 'root_account_id': 1, 'enrollment_term_id': 163, 'license': 'private', 'grade_passback_setting': None, 'end_at': None, 'public_syllabus': False, 'public_syllabus_to_auth': False, 'storage_quota_mb': 750, 'is_public_to_auth_users': False, 'homeroom_course': False, 'course_color': None, 'friendly_name': None, 'apply_assignment_group_weights': True, 'calendar': {'ics': 'https://osu.instructure.com/feeds/calendars/course_38P3LBRz9iGCoXTHtad6hUjMfCvL3WUun8Od3dke.ics'}, 'time_zone': 'America/New_York', 'blueprint': False, 'template': False, 'enrollments': [{'type': 'student', 'role': 'StudentEnrollment', 'role_id': 3, 'user_id': 1036620, 'enrollment_state': 'active', 'limit_privileges_to_course_section': False}, {'type': 'student', 'role': 'StudentEnrollment', 'role_id': 3, 'user_id': 1036620, 'enrollment_state': 'active', 'limit_privileges_to_course_section': False}], 'hide_final_grades': False, 'workflow_state': 'available', 'restrict_enrollments_to_course_dates': False}\n",
      "{'_requester': <canvasapi.requester.Requester object at 0x7fdadeb28190>, 'id': 132604, 'name': 'BOSS 2022', 'account_id': 473, 'uuid': 'qEA57Y8BNkpNg9ZgVrWgygVr5CSsRjmgLcC0SAg7', 'start_at': None, 'grading_standard_id': None, 'is_public': None, 'created_at': '2022-09-15T15:19:01Z', 'created_at_date': datetime.datetime(2022, 9, 15, 15, 19, 1, tzinfo=<UTC>), 'course_code': 'BOSS 2022', 'default_view': 'modules', 'root_account_id': 1, 'enrollment_term_id': 6, 'license': None, 'grade_passback_setting': None, 'end_at': None, 'public_syllabus': False, 'public_syllabus_to_auth': False, 'storage_quota_mb': 750, 'is_public_to_auth_users': False, 'homeroom_course': False, 'course_color': None, 'friendly_name': None, 'apply_assignment_group_weights': False, 'calendar': {'ics': 'https://osu.instructure.com/feeds/calendars/course_qEA57Y8BNkpNg9ZgVrWgygVr5CSsRjmgLcC0SAg7.ics'}, 'time_zone': 'America/New_York', 'blueprint': False, 'template': False, 'enrollments': [{'type': 'student', 'role': 'StudentEnrollment', 'role_id': 3, 'user_id': 1036620, 'enrollment_state': 'active', 'limit_privileges_to_course_section': False}], 'hide_final_grades': False, 'workflow_state': 'available', 'restrict_enrollments_to_course_dates': False}\n",
      "{'_requester': <canvasapi.requester.Requester object at 0x7fdadeb28190>, 'id': 136956, 'name': 'SP23 CSE 2321 - Fndns 1: Discr Str (7193)', 'account_id': 1151, 'uuid': 'WsG5tjJow26RcN8LBVTZesfYvXcY8dRC4LgLMfN5', 'start_at': None, 'grading_standard_id': 1585, 'is_public': None, 'created_at': '2022-12-27T15:24:43Z', 'created_at_date': datetime.datetime(2022, 12, 27, 15, 24, 43, tzinfo=<UTC>), 'course_code': 'CSE 2321 SP2023 (7193)', 'default_view': 'syllabus', 'root_account_id': 1, 'enrollment_term_id': 164, 'license': None, 'grade_passback_setting': None, 'end_at': None, 'public_syllabus': False, 'public_syllabus_to_auth': False, 'storage_quota_mb': 750, 'is_public_to_auth_users': False, 'homeroom_course': False, 'course_color': None, 'friendly_name': None, 'apply_assignment_group_weights': False, 'calendar': {'ics': 'https://osu.instructure.com/feeds/calendars/course_WsG5tjJow26RcN8LBVTZesfYvXcY8dRC4LgLMfN5.ics'}, 'time_zone': 'America/New_York', 'blueprint': False, 'template': False, 'enrollments': [{'type': 'student', 'role': 'StudentEnrollment', 'role_id': 3, 'user_id': 1036620, 'enrollment_state': 'active', 'limit_privileges_to_course_section': False}], 'hide_final_grades': False, 'workflow_state': 'available', 'restrict_enrollments_to_course_dates': False}\n",
      "{'_requester': <canvasapi.requester.Requester object at 0x7fdadeb28190>, 'id': 138605, 'name': 'SP23 MATH 2568 - Linear Algebra (29228)', 'account_id': 716, 'uuid': '0aUNySWlnw7pAd0M7SkraIo5XiJZiZyQg0cZmhNk', 'start_at': None, 'grading_standard_id': 1585, 'is_public': None, 'created_at': '2023-01-04T00:38:14Z', 'created_at_date': datetime.datetime(2023, 1, 4, 0, 38, 14, tzinfo=<UTC>), 'course_code': 'MATH 2568 SP2023 (29228)', 'default_view': 'wiki', 'root_account_id': 1, 'enrollment_term_id': 164, 'license': None, 'grade_passback_setting': None, 'end_at': None, 'public_syllabus': False, 'public_syllabus_to_auth': False, 'storage_quota_mb': 750, 'is_public_to_auth_users': False, 'homeroom_course': False, 'course_color': None, 'friendly_name': None, 'apply_assignment_group_weights': True, 'calendar': {'ics': 'https://osu.instructure.com/feeds/calendars/course_0aUNySWlnw7pAd0M7SkraIo5XiJZiZyQg0cZmhNk.ics'}, 'time_zone': 'America/New_York', 'blueprint': False, 'template': False, 'enrollments': [{'type': 'student', 'role': 'StudentEnrollment', 'role_id': 3, 'user_id': 1036620, 'enrollment_state': 'active', 'limit_privileges_to_course_section': False}], 'hide_final_grades': False, 'workflow_state': 'available', 'restrict_enrollments_to_course_dates': False}\n",
      "{'_requester': <canvasapi.requester.Requester object at 0x7fdadeb28190>, 'id': 135627, 'name': 'SP23 STAT 3470.01 - Intro Stat Eng (20905)', 'account_id': 10526, 'uuid': 'ZMPo1hyUoTPGU6Hqga1SYDjEpBPUWM7gA2DHvn8K', 'start_at': None, 'grading_standard_id': 1585, 'is_public': None, 'created_at': '2022-12-13T16:29:00Z', 'created_at_date': datetime.datetime(2022, 12, 13, 16, 29, tzinfo=<UTC>), 'course_code': 'STAT 3470.01 SP2023 (20905)', 'default_view': 'wiki', 'root_account_id': 1, 'enrollment_term_id': 164, 'license': None, 'grade_passback_setting': None, 'end_at': None, 'public_syllabus': False, 'public_syllabus_to_auth': False, 'storage_quota_mb': 750, 'is_public_to_auth_users': False, 'homeroom_course': False, 'course_color': None, 'friendly_name': None, 'apply_assignment_group_weights': False, 'calendar': {'ics': 'https://osu.instructure.com/feeds/calendars/course_ZMPo1hyUoTPGU6Hqga1SYDjEpBPUWM7gA2DHvn8K.ics'}, 'time_zone': 'America/New_York', 'blueprint': False, 'template': False, 'enrollments': [{'type': 'student', 'role': 'StudentEnrollment', 'role_id': 3, 'user_id': 1036620, 'enrollment_state': 'active', 'limit_privileges_to_course_section': False}], 'hide_final_grades': False, 'workflow_state': 'available', 'restrict_enrollments_to_course_dates': False}\n",
      "{'_requester': <canvasapi.requester.Requester object at 0x7fdadeb28190>, 'id': 115123, 'name': 'Start to Code with Swift (Spring 2022)', 'account_id': 9456, 'uuid': 'Zn5H8L06FPaa73y0fz8UJn3SIw5EaRvLYNeR19kT', 'start_at': '2020-02-20T19:56:00Z', 'start_at_date': datetime.datetime(2020, 2, 20, 19, 56, tzinfo=<UTC>), 'grading_standard_id': None, 'is_public': False, 'created_at': '2021-12-20T23:27:48Z', 'created_at_date': datetime.datetime(2021, 12, 20, 23, 27, 48, tzinfo=<UTC>), 'course_code': 'Start 2022)', 'default_view': 'wiki', 'root_account_id': 1, 'enrollment_term_id': 6, 'license': 'private', 'grade_passback_setting': None, 'end_at': None, 'public_syllabus': False, 'public_syllabus_to_auth': True, 'storage_quota_mb': 750, 'is_public_to_auth_users': True, 'homeroom_course': False, 'course_color': None, 'friendly_name': None, 'apply_assignment_group_weights': False, 'calendar': {'ics': 'https://osu.instructure.com/feeds/calendars/course_Zn5H8L06FPaa73y0fz8UJn3SIw5EaRvLYNeR19kT.ics'}, 'time_zone': 'America/New_York', 'blueprint': False, 'template': False, 'enrollments': [{'type': 'student', 'role': 'StudentEnrollment', 'role_id': 3, 'user_id': 1036620, 'enrollment_state': 'active', 'limit_privileges_to_course_section': False}], 'hide_final_grades': False, 'workflow_state': 'available', 'restrict_enrollments_to_course_dates': False, 'overridden_course_visibility': ''}\n"
     ]
    }
   ],
   "source": [
    "for x in kiran.get_courses():\n",
    "    print(x.__dict__)"
   ]
  },
  {
   "cell_type": "code",
   "execution_count": 303,
   "metadata": {},
   "outputs": [],
   "source": [
    "def add_links(course:cnv.course.Course):\n",
    "    course_assignments = [y for y in kiran.get_assignments(course)]\n",
    "    for x in course_assignments:\n",
    "        if x.get_submission(kiran).submitted_at == None and x.due_at!=None:\n",
    "            print(x)\n",
    "            page = nclient.databases.query(**{\"database_id\":db_id,\"filter\":{\"property\":\"Name\",\"title\":{\"contains\":x.name}}})['results'][0]\n",
    "            nclient.pages.update(page['id'],**{'properties':{'Link':{'url':x.html_url}}})"
   ]
  },
  {
   "cell_type": "code",
   "execution_count": 57,
   "metadata": {},
   "outputs": [],
   "source": [
    "def update_times(course:cnv.course.Course):\n",
    "    course_assignments = [y for y in kiran.get_assignments(course)]\n",
    "    for x in course_assignments:\n",
    "        if x.get_submission(kiran).submitted_at == None and x.due_at!=None:\n",
    "            print(x)\n",
    "            page = nclient.databases.query(**{\"database_id\":db_id,\"filter\":{\"and\":[{\"property\":\"Name\",\"title\":{\"contains\":x.name}},{\"property\":\"Subject\",\"select\":{\"equals\":subjects[course.name]['name']}}]}})['results'][0]\n",
    "            nclient.pages.update(page['id'],**{'properties':{'Due Date':{\"date\":{\"start\":datetime.strptime(x.due_at,\"%Y-%m-%dT%H:%M:%S%z\").astimezone(pytz.timezone('US/Eastern')).strftime(\"%Y-%m-%dT%H:%M:%S%z\")}}}})"
   ]
  },
  {
   "cell_type": "code",
   "execution_count": 48,
   "metadata": {},
   "outputs": [
    {
     "data": {
      "text/plain": [
       "{'object': 'list',\n",
       " 'results': [],\n",
       " 'next_cursor': None,\n",
       " 'has_more': False,\n",
       " 'type': 'page',\n",
       " 'page': {}}"
      ]
     },
     "execution_count": 48,
     "metadata": {},
     "output_type": "execute_result"
    }
   ],
   "source": [
    "nclient.databases.query(**{\"database_id\":db_id,\"filter\":{\"and\":[{\"property\":\"Name\",\"title\":{\"contains\":x.name}},{\"property\":\"Subject\",\"select\":{\"equals\":\"s\"}}]}})"
   ]
  },
  {
   "cell_type": "code",
   "execution_count": 13,
   "metadata": {},
   "outputs": [
    {
     "data": {
      "text/plain": [
       "{'options': [{'id': '8227a232-c5fb-4e01-b345-6d1d9eff890f',\n",
       "   'name': 'TeachAids',\n",
       "   'color': 'blue'},\n",
       "  {'id': '1496d3ae-b03f-4e96-8c87-e27dc19bb84e',\n",
       "   'name': 'Coding Classes',\n",
       "   'color': 'pink'},\n",
       "  {'id': '77f20dbb-81be-44ca-b9a9-a322f7683743',\n",
       "   'name': 'Stock Price Model',\n",
       "   'color': 'gray'},\n",
       "  {'id': '37f659f6-cdfc-42f7-bfdf-e87820a36810',\n",
       "   'name': 'Internships',\n",
       "   'color': 'orange'},\n",
       "  {'id': 'b1051ad1-d157-4b95-9fd8-32a95f82de20',\n",
       "   'name': 'Work',\n",
       "   'color': 'brown'},\n",
       "  {'id': '7f0a2282-7d65-4860-8fa4-c63c8b6f32c1',\n",
       "   'name': 'Gym',\n",
       "   'color': 'gray'},\n",
       "  {'id': '72ec38b3-60f0-464f-a62d-5cb340f6faf1',\n",
       "   'name': 'Personal',\n",
       "   'color': 'purple'},\n",
       "  {'id': 'cf43a828-4236-485c-b586-7fc9bc6cf40c',\n",
       "   'name': 'Xavier',\n",
       "   'color': 'red'},\n",
       "  {'id': '8d669188-3c5e-4fea-84e4-2cb3fcf74ca8',\n",
       "   'name': 'Software Engineering 2221',\n",
       "   'color': 'yellow'},\n",
       "  {'id': '9ff6a39b-c700-4ab7-9d66-29d963f01e8f',\n",
       "   'name': 'Intro to Engineering',\n",
       "   'color': 'green'},\n",
       "  {'id': 'e18cd657-84af-4152-a783-be92991ca93b',\n",
       "   'name': 'Art Sci Survey',\n",
       "   'color': 'default'},\n",
       "  {'id': '6dcb6cd3-3d2c-46d5-a070-f6f8bdb6969c',\n",
       "   'name': 'Physics 1250H',\n",
       "   'color': 'purple'},\n",
       "  {'id': '85591cad-2e1b-44f7-b06f-05f45a081c95',\n",
       "   'name': 'Calc 2153',\n",
       "   'color': 'red'},\n",
       "  {'id': 'f4a7698c-1bd1-45b5-8474-db25bad5eee3',\n",
       "   'name': 'Stoicism',\n",
       "   'color': 'gray'}]}"
      ]
     },
     "execution_count": 13,
     "metadata": {},
     "output_type": "execute_result"
    }
   ],
   "source": [
    "nclient.databases.retrieve(db_id)['properties']['Subject']['select']"
   ]
  },
  {
   "cell_type": "code",
   "execution_count": 17,
   "metadata": {},
   "outputs": [
    {
     "data": {
      "text/plain": [
       "{'object': 'list',\n",
       " 'results': [{'object': 'page',\n",
       "   'id': '2c1b26d8-8f78-447c-ad93-0a43c4de9dda',\n",
       "   'created_time': '2022-11-02T20:50:00.000Z',\n",
       "   'last_edited_time': '2022-11-02T21:24:00.000Z',\n",
       "   'created_by': {'object': 'user',\n",
       "    'id': '6c910c0f-1f0f-432e-9e79-324309e6457f'},\n",
       "   'last_edited_by': {'object': 'user',\n",
       "    'id': 'bcd9f059-dbe8-44c2-8252-3c94a76e3e36'},\n",
       "   'cover': None,\n",
       "   'icon': None,\n",
       "   'parent': {'type': 'database_id',\n",
       "    'database_id': '57c6c1fd-b5b5-4861-af2f-b7787344b4fc'},\n",
       "   'archived': False,\n",
       "   'properties': {'Due Date': {'id': '%3CL%5B%60',\n",
       "     'type': 'date',\n",
       "     'date': {'start': '2022-11-06T23:59:00.000-05:00',\n",
       "      'end': None,\n",
       "      'time_zone': None}},\n",
       "    'Scheduled Date': {'id': 'F%3Dd%3A', 'type': 'date', 'date': None},\n",
       "    'Link': {'id': 'F%7CBr',\n",
       "     'type': 'url',\n",
       "     'url': 'https://osu.instructure.com/courses/126865/assignments/3109496'},\n",
       "    'Project': {'id': 'N%7DUj',\n",
       "     'type': 'relation',\n",
       "     'relation': [],\n",
       "     'has_more': False},\n",
       "    'Subject': {'id': '%60QUQ',\n",
       "     'type': 'select',\n",
       "     'select': {'id': '6dcb6cd3-3d2c-46d5-a070-f6f8bdb6969c',\n",
       "      'name': 'Physics 1250H',\n",
       "      'color': 'purple'}},\n",
       "    'Time to complete': {'id': 'i%3D%7Bc',\n",
       "     'type': 'select',\n",
       "     'select': {'id': '20cb7936-41e5-4ffc-9a8f-f285f7d098d1',\n",
       "      'name': '15-30 min',\n",
       "      'color': 'purple'}},\n",
       "    'Completion Progress': {'id': 'pC%7D%3E',\n",
       "     'type': 'number',\n",
       "     'number': None},\n",
       "    'Status': {'id': 'yVNV',\n",
       "     'type': 'select',\n",
       "     'select': {'id': '64b0323e-2990-4165-933a-118a5298cbd8',\n",
       "      'name': 'Thursday',\n",
       "      'color': 'purple'}},\n",
       "    'Name': {'id': 'title',\n",
       "     'type': 'title',\n",
       "     'title': [{'type': 'text',\n",
       "       'text': {'content': 'ES Week 12', 'link': None},\n",
       "       'annotations': {'bold': False,\n",
       "        'italic': False,\n",
       "        'strikethrough': False,\n",
       "        'underline': False,\n",
       "        'code': False,\n",
       "        'color': 'default'},\n",
       "       'plain_text': 'ES Week 12',\n",
       "       'href': None}]}},\n",
       "   'url': 'https://www.notion.so/ES-Week-12-2c1b26d88f78447cad930a43c4de9dda'}],\n",
       " 'next_cursor': None,\n",
       " 'has_more': False,\n",
       " 'type': 'page',\n",
       " 'page': {}}"
      ]
     },
     "execution_count": 17,
     "metadata": {},
     "output_type": "execute_result"
    }
   ],
   "source": [
    "nclient.databases.query(**{\"database_id\":db_id,\"filter\":{\"and\":[{\"property\":\"Name\",\"title\":{\"contains\":\"ES Week 12\"}},{\"property\":\"Subject\",\"select\":{\"equals\":\"Physics 1250H\"}}]}})"
   ]
  },
  {
   "cell_type": "code",
   "execution_count": 26,
   "metadata": {},
   "outputs": [],
   "source": [
    "s1 = {\n",
    "    'Name': {\"title\": [{\"type\":\"text\",\"text\":{\"content\":\"Test\"}}]},\n",
    "    \"Subject\":{\"select\":{\"name\":\"Test\"}},\n",
    "    \"Time to complete\":{\"select\":{'id': 'b261419e-254f-44b9-8788-1532a54646fb','name': 'About an hour','color': 'red'}}\n",
    "    }"
   ]
  },
  {
   "cell_type": "code",
   "execution_count": 27,
   "metadata": {},
   "outputs": [
    {
     "data": {
      "text/plain": [
       "{'object': 'page',\n",
       " 'id': '04df65f8-be0e-4802-8f0f-e179cc09e114',\n",
       " 'created_time': '2022-11-03T16:49:00.000Z',\n",
       " 'last_edited_time': '2022-11-03T16:49:00.000Z',\n",
       " 'created_by': {'object': 'user',\n",
       "  'id': '6c910c0f-1f0f-432e-9e79-324309e6457f'},\n",
       " 'last_edited_by': {'object': 'user',\n",
       "  'id': '6c910c0f-1f0f-432e-9e79-324309e6457f'},\n",
       " 'cover': None,\n",
       " 'icon': None,\n",
       " 'parent': {'type': 'database_id',\n",
       "  'database_id': '57c6c1fd-b5b5-4861-af2f-b7787344b4fc'},\n",
       " 'archived': False,\n",
       " 'properties': {'Due Date': {'id': '%3CL%5B%60', 'type': 'date', 'date': None},\n",
       "  'Scheduled Date': {'id': 'F%3Dd%3A', 'type': 'date', 'date': None},\n",
       "  'Link': {'id': 'F%7CBr', 'type': 'url', 'url': None},\n",
       "  'Project': {'id': 'N%7DUj',\n",
       "   'type': 'relation',\n",
       "   'relation': [],\n",
       "   'has_more': False},\n",
       "  'Subject': {'id': '%60QUQ',\n",
       "   'type': 'select',\n",
       "   'select': {'id': '540739ff-3149-4952-91a8-48b8e2148bb7',\n",
       "    'name': 'Test',\n",
       "    'color': 'purple'}},\n",
       "  'Time to complete': {'id': 'i%3D%7Bc',\n",
       "   'type': 'select',\n",
       "   'select': {'id': 'b261419e-254f-44b9-8788-1532a54646fb',\n",
       "    'name': 'About an hour',\n",
       "    'color': 'red'}},\n",
       "  'Completion Progress': {'id': 'pC%7D%3E', 'type': 'number', 'number': None},\n",
       "  'Status': {'id': 'yVNV', 'type': 'select', 'select': None},\n",
       "  'Name': {'id': 'title',\n",
       "   'type': 'title',\n",
       "   'title': [{'type': 'text',\n",
       "     'text': {'content': 'Test', 'link': None},\n",
       "     'annotations': {'bold': False,\n",
       "      'italic': False,\n",
       "      'strikethrough': False,\n",
       "      'underline': False,\n",
       "      'code': False,\n",
       "      'color': 'default'},\n",
       "     'plain_text': 'Test',\n",
       "     'href': None}]}},\n",
       " 'url': 'https://www.notion.so/Test-04df65f8be0e48028f0fe179cc09e114'}"
      ]
     },
     "execution_count": 27,
     "metadata": {},
     "output_type": "execute_result"
    }
   ],
   "source": [
    "nclient.pages.create(**{\"parent\":{\"type\":\"database_id\",\"database_id\":db_id},\"properties\":s1})"
   ]
  },
  {
   "cell_type": "code",
   "execution_count": null,
   "metadata": {},
   "outputs": [],
   "source": []
  }
 ],
 "metadata": {
  "kernelspec": {
   "display_name": "Python 3.10.0 ('p310')",
   "language": "python",
   "name": "python3"
  },
  "language_info": {
   "codemirror_mode": {
    "name": "ipython",
    "version": 3
   },
   "file_extension": ".py",
   "mimetype": "text/x-python",
   "name": "python",
   "nbconvert_exporter": "python",
   "pygments_lexer": "ipython3",
   "version": "3.10.0"
  },
  "orig_nbformat": 4,
  "vscode": {
   "interpreter": {
    "hash": "86ba12af8c92082f9a01e1b90654f6f416baf3db58f85b5ae7d4af2bb3430c23"
   }
  }
 },
 "nbformat": 4,
 "nbformat_minor": 2
}
