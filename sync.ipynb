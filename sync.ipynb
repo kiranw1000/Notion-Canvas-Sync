{
 "cells": [
  {
   "cell_type": "code",
   "execution_count": 2,
   "metadata": {},
   "outputs": [],
   "source": [
    "from canvasapi import Canvas, assignment\n",
    "import canvasapi as cnv\n",
    "from tokens import canvas_token, notion_token\n",
    "from notion_client import Client\n",
    "from datetime import datetime,timedelta\n",
    "import pytz"
   ]
  },
  {
   "cell_type": "code",
   "execution_count": 3,
   "metadata": {},
   "outputs": [],
   "source": [
    "nclient = Client(auth=notion_token)\n",
    "API_URL = \"https://osu.instructure.com/\"\n",
    "API_KEY = canvas_token\n",
    "canvas = Canvas(API_URL,API_KEY)\n",
    "kiran = canvas.get_current_user()\n",
    "courses = []\n",
    "enrollment_term_id = 164\n",
    "for course in kiran.get_courses():\n",
    "    if course.__dict__['enrollment_term_id'] == enrollment_term_id:\n",
    "        courses.append(course)\n",
    "db_id = \"57c6c1fdb5b54861af2fb7787344b4fc\"\n",
    "subjects = {}"
   ]
  },
  {
   "cell_type": "code",
   "execution_count": 19,
   "metadata": {},
   "outputs": [
    {
     "ename": "APIResponseError",
     "evalue": "body failed validation: body.parent should be defined, instead was `undefined`.",
     "output_type": "error",
     "traceback": [
      "\u001b[0;31m---------------------------------------------------------------------------\u001b[0m",
      "\u001b[0;31mHTTPStatusError\u001b[0m                           Traceback (most recent call last)",
      "File \u001b[0;32m~/opt/anaconda3/envs/p310/lib/python3.10/site-packages/notion_client/client.py:116\u001b[0m, in \u001b[0;36mBaseClient._parse_response\u001b[0;34m(self, response)\u001b[0m\n\u001b[1;32m    115\u001b[0m \u001b[39mtry\u001b[39;00m:\n\u001b[0;32m--> 116\u001b[0m     response\u001b[39m.\u001b[39;49mraise_for_status()\n\u001b[1;32m    117\u001b[0m \u001b[39mexcept\u001b[39;00m httpx\u001b[39m.\u001b[39mHTTPStatusError \u001b[39mas\u001b[39;00m error:\n",
      "File \u001b[0;32m~/opt/anaconda3/envs/p310/lib/python3.10/site-packages/httpx/_models.py:1510\u001b[0m, in \u001b[0;36mResponse.raise_for_status\u001b[0;34m(self)\u001b[0m\n\u001b[1;32m   1509\u001b[0m message \u001b[39m=\u001b[39m message\u001b[39m.\u001b[39mformat(\u001b[39mself\u001b[39m, error_type\u001b[39m=\u001b[39merror_type)\n\u001b[0;32m-> 1510\u001b[0m \u001b[39mraise\u001b[39;00m HTTPStatusError(message, request\u001b[39m=\u001b[39mrequest, response\u001b[39m=\u001b[39m\u001b[39mself\u001b[39m)\n",
      "\u001b[0;31mHTTPStatusError\u001b[0m: Client error '400 Bad Request' for url 'https://api.notion.com/v1/pages'\nFor more information check: https://httpstatuses.com/400",
      "\nDuring handling of the above exception, another exception occurred:\n",
      "\u001b[0;31mAPIResponseError\u001b[0m                          Traceback (most recent call last)",
      "\u001b[1;32m/Users/kiran/Desktop/1ACode/Notion:Canvas_Sync/sync.ipynb Cell 3\u001b[0m in \u001b[0;36m<module>\u001b[0;34m\u001b[0m\n\u001b[0;32m----> <a href='vscode-notebook-cell:/Users/kiran/Desktop/1ACode/Notion%3ACanvas_Sync/sync.ipynb#X32sZmlsZQ%3D%3D?line=0'>1</a>\u001b[0m p1 \u001b[39m=\u001b[39m nclient\u001b[39m.\u001b[39;49mpages\u001b[39m.\u001b[39;49mcreate()\n",
      "File \u001b[0;32m~/opt/anaconda3/envs/p310/lib/python3.10/site-packages/notion_client/api_endpoints.py:197\u001b[0m, in \u001b[0;36mPagesEndpoint.create\u001b[0;34m(self, **kwargs)\u001b[0m\n\u001b[1;32m    192\u001b[0m \u001b[39mdef\u001b[39;00m \u001b[39mcreate\u001b[39m(\u001b[39mself\u001b[39m, \u001b[39m*\u001b[39m\u001b[39m*\u001b[39mkwargs: Any) \u001b[39m-\u001b[39m\u001b[39m>\u001b[39m SyncAsync[Any]:\n\u001b[1;32m    193\u001b[0m     \u001b[39m\"\"\"Create a new page in the specified database or as a child of an existing page.\u001b[39;00m\n\u001b[1;32m    194\u001b[0m \n\u001b[1;32m    195\u001b[0m \u001b[39m    *[🔗 Endpoint documentation](https://developers.notion.com/reference/post-page)*\u001b[39;00m\n\u001b[1;32m    196\u001b[0m \u001b[39m    \"\"\"\u001b[39;00m  \u001b[39m# noqa: E501\u001b[39;00m\n\u001b[0;32m--> 197\u001b[0m     \u001b[39mreturn\u001b[39;00m \u001b[39mself\u001b[39;49m\u001b[39m.\u001b[39;49mparent\u001b[39m.\u001b[39;49mrequest(\n\u001b[1;32m    198\u001b[0m         path\u001b[39m=\u001b[39;49m\u001b[39m\"\u001b[39;49m\u001b[39mpages\u001b[39;49m\u001b[39m\"\u001b[39;49m,\n\u001b[1;32m    199\u001b[0m         method\u001b[39m=\u001b[39;49m\u001b[39m\"\u001b[39;49m\u001b[39mPOST\u001b[39;49m\u001b[39m\"\u001b[39;49m,\n\u001b[1;32m    200\u001b[0m         body\u001b[39m=\u001b[39;49mpick(kwargs, \u001b[39m\"\u001b[39;49m\u001b[39mparent\u001b[39;49m\u001b[39m\"\u001b[39;49m, \u001b[39m\"\u001b[39;49m\u001b[39mproperties\u001b[39;49m\u001b[39m\"\u001b[39;49m, \u001b[39m\"\u001b[39;49m\u001b[39mchildren\u001b[39;49m\u001b[39m\"\u001b[39;49m, \u001b[39m\"\u001b[39;49m\u001b[39micon\u001b[39;49m\u001b[39m\"\u001b[39;49m, \u001b[39m\"\u001b[39;49m\u001b[39mcover\u001b[39;49m\u001b[39m\"\u001b[39;49m),\n\u001b[1;32m    201\u001b[0m         auth\u001b[39m=\u001b[39;49mkwargs\u001b[39m.\u001b[39;49mget(\u001b[39m\"\u001b[39;49m\u001b[39mauth\u001b[39;49m\u001b[39m\"\u001b[39;49m),\n\u001b[1;32m    202\u001b[0m     )\n",
      "File \u001b[0;32m~/opt/anaconda3/envs/p310/lib/python3.10/site-packages/notion_client/client.py:192\u001b[0m, in \u001b[0;36mClient.request\u001b[0;34m(self, path, method, query, body, auth)\u001b[0m\n\u001b[1;32m    190\u001b[0m \u001b[39mexcept\u001b[39;00m httpx\u001b[39m.\u001b[39mTimeoutException:\n\u001b[1;32m    191\u001b[0m     \u001b[39mraise\u001b[39;00m RequestTimeoutError()\n\u001b[0;32m--> 192\u001b[0m \u001b[39mreturn\u001b[39;00m \u001b[39mself\u001b[39;49m\u001b[39m.\u001b[39;49m_parse_response(response)\n",
      "File \u001b[0;32m~/opt/anaconda3/envs/p310/lib/python3.10/site-packages/notion_client/client.py:124\u001b[0m, in \u001b[0;36mBaseClient._parse_response\u001b[0;34m(self, response)\u001b[0m\n\u001b[1;32m    122\u001b[0m         code \u001b[39m=\u001b[39m \u001b[39mNone\u001b[39;00m\n\u001b[1;32m    123\u001b[0m     \u001b[39mif\u001b[39;00m code \u001b[39mand\u001b[39;00m is_api_error_code(code):\n\u001b[0;32m--> 124\u001b[0m         \u001b[39mraise\u001b[39;00m APIResponseError(response, body[\u001b[39m\"\u001b[39m\u001b[39mmessage\u001b[39m\u001b[39m\"\u001b[39m], code)\n\u001b[1;32m    125\u001b[0m     \u001b[39mraise\u001b[39;00m HTTPResponseError(error\u001b[39m.\u001b[39mresponse)\n\u001b[1;32m    127\u001b[0m body \u001b[39m=\u001b[39m response\u001b[39m.\u001b[39mjson()\n",
      "\u001b[0;31mAPIResponseError\u001b[0m: body failed validation: body.parent should be defined, instead was `undefined`."
     ]
    }
   ],
   "source": [
    "p1 = nclient.pages.create()"
   ]
  },
  {
   "cell_type": "code",
   "execution_count": 4,
   "metadata": {},
   "outputs": [],
   "source": [
    "def get_schema(assignment:assignment,subject_dict:dict,course:str):\n",
    "    status = \"\"\n",
    "    if assignment.due_at_date.date()-datetime.today().date()<=timedelta(days=7):\n",
    "        status = str(1)\n",
    "    else:\n",
    "        status = str(2)\n",
    "    if course in subject_dict.keys():\n",
    "        subject = subject_dict[course]\n",
    "    else:\n",
    "        subject = {'name':course}\n",
    "    schema = {\n",
    "    \"Status\":{\"status\":{\"id\":status}},\n",
    "    'Name': {\"title\": [{\"type\":\"text\",\"text\":{\"content\":assignment.name}}]},\n",
    "    \"Subject\":{\"select\":subject},\n",
    "    \"Due Date\":{\"date\":{\"start\":datetime.strptime(assignment.due_at,\"%Y-%m-%dT%H:%M:%S%z\").astimezone(pytz.timezone('US/Eastern')).strftime(\"%Y-%m-%dT%H:%M:%S%z\")}},\n",
    "    \"Link\":{\"url\":assignment.html_url},\n",
    "    \"Time to complete\":{\"select\":{'id': 'b261419e-254f-44b9-8788-1532a54646fb','name': 'About an hour','color': 'red'}}\n",
    "    }\n",
    "    return schema"
   ]
  },
  {
   "cell_type": "code",
   "execution_count": 6,
   "metadata": {},
   "outputs": [],
   "source": [
    "def add_assignment(assignment:assignment,subject_dict:dict,course:str):\n",
    "    return nclient.pages.create(**{\"parent\":{\"type\":\"database_id\",\"database_id\":db_id},\"properties\":get_schema(assignment,subjects,course)})\n"
   ]
  },
  {
   "cell_type": "code",
   "execution_count": 7,
   "metadata": {},
   "outputs": [],
   "source": [
    "def update_course(course:cnv.course.Course,subject_dict:dict):\n",
    "    course_assignments = [y for y in kiran.get_assignments(course)]\n",
    "    for x in course_assignments:\n",
    "        if course.name in subject_dict.keys():\n",
    "            subject = subject_dict[course.name]['name']\n",
    "        else:\n",
    "            subject = course.name\n",
    "        if len(nclient.databases.query(**{\"database_id\":db_id,\"filter\":{\"and\":[{\"property\":\"Name\",\"title\":{\"contains\":x.name}},{\"property\":\"Subject\",\"select\":{\"equals\":subject}}]}})['results'])<1 and '''x.get_submission(kiran).submitted_at==None''' and x.due_at!=None:\n",
    "            print(x)\n",
    "            print(add_assignment(assignment=x,subject_dict=subject_dict,course=course.name)['properties']['Name'])"
   ]
  },
  {
   "cell_type": "code",
   "execution_count": 16,
   "metadata": {},
   "outputs": [],
   "source": [
    "def update_all(courses:list,subject_dict:dict):\n",
    "    backlog = \"Backlog\"\n",
    "    week_backlog = \"Week Backlog\"\n",
    "    backloglist = nclient.databases.query(**{\"database_id\":db_id,\"filter\":{\"property\":\"Status\",\"status\":{\"equals\":\"Backlog\"}}})['results']\n",
    "    for page in backloglist:\n",
    "        date = datetime.fromisoformat(page['properties']['Due Date']['date']['start'])\n",
    "        if date.date()-datetime.today().date()<timedelta(days=7):\n",
    "            nclient.pages.update(page['id'],**{'properties':{'Status':{'status':{'name':week_backlog}}}})\n",
    "    for x in courses:\n",
    "        update_course(x,subject_dict)"
   ]
  },
  {
   "cell_type": "code",
   "execution_count": null,
   "metadata": {},
   "outputs": [],
   "source": [
    "update_all(courses=courses,subject_dict=subjects)"
   ]
  },
  {
   "cell_type": "code",
   "execution_count": 303,
   "metadata": {},
   "outputs": [],
   "source": [
    "def add_links(course:cnv.course.Course):\n",
    "    course_assignments = [y for y in kiran.get_assignments(course)]\n",
    "    for x in course_assignments:\n",
    "        if x.get_submission(kiran).submitted_at == None and x.due_at!=None:\n",
    "            print(x)\n",
    "            page = nclient.databases.query(**{\"database_id\":db_id,\"filter\":{\"property\":\"Name\",\"title\":{\"contains\":x.name}}})['results'][0]\n",
    "            nclient.pages.update(page['id'],**{'properties':{'Link':{'url':x.html_url}}})"
   ]
  },
  {
   "cell_type": "code",
   "execution_count": 57,
   "metadata": {},
   "outputs": [],
   "source": [
    "def update_times(course:cnv.course.Course):\n",
    "    course_assignments = [y for y in kiran.get_assignments(course)]\n",
    "    for x in course_assignments:\n",
    "        if x.get_submission(kiran).submitted_at == None and x.due_at!=None:\n",
    "            print(x)\n",
    "            page = nclient.databases.query(**{\"database_id\":db_id,\"filter\":{\"and\":[{\"property\":\"Name\",\"title\":{\"contains\":x.name}},{\"property\":\"Subject\",\"select\":{\"equals\":subjects[course.name]['name']}}]}})['results'][0]\n",
    "            nclient.pages.update(page['id'],**{'properties':{'Due Date':{\"date\":{\"start\":datetime.strptime(x.due_at,\"%Y-%m-%dT%H:%M:%S%z\").astimezone(pytz.timezone('US/Eastern')).strftime(\"%Y-%m-%dT%H:%M:%S%z\")}}}})"
   ]
  },
  {
   "cell_type": "code",
   "execution_count": 40,
   "metadata": {},
   "outputs": [],
   "source": [
    "def find_duplicates(course_list):\n",
    "    for c in course_list:\n",
    "        course_assignments = [y for y in kiran.get_assignments(c)]\n",
    "        for x in course_assignments:\n",
    "            subject = c.name\n",
    "            if len(nclient.databases.query(**{\"database_id\":db_id,\"filter\":{\"and\":[{\"property\":\"Name\",\"title\":{\"contains\":x.name}},{\"property\":\"Subject\",\"select\":{\"equals\":subject}}]}})['results'])>0 and '''x.get_submission(kiran).submitted_at==None''' and x.due_at!=None:\n",
    "                print(x)"
   ]
  },
  {
   "cell_type": "code",
   "execution_count": 53,
   "metadata": {},
   "outputs": [],
   "source": [
    "def remove_duplicates(course_list):\n",
    "    for c in course_list:\n",
    "        course_assignments = [y for y in kiran.get_assignments(c)]\n",
    "        for x in course_assignments:\n",
    "            subject = c.name\n",
    "            qresults = nclient.databases.query(**{\"database_id\":db_id,\"filter\":{\"and\":[{\"property\":\"Name\",\"title\":{\"contains\":x.name}},{\"property\":\"Subject\",\"select\":{\"equals\":subject}}]}})['results']\n",
    "            if len(qresults)>1 and '''x.get_submission(kiran).submitted_at==None''' and x.due_at!=None:\n",
    "                for x in range(len(qresults)-1):\n",
    "                    currentpage = nclient.pages.update(qresults[x]['id'],**{'archived':True})"
   ]
  }
 ],
 "metadata": {
  "kernelspec": {
   "display_name": "Python 3.10.0 ('p310')",
   "language": "python",
   "name": "python3"
  },
  "language_info": {
   "codemirror_mode": {
    "name": "ipython",
    "version": 3
   },
   "file_extension": ".py",
   "mimetype": "text/x-python",
   "name": "python",
   "nbconvert_exporter": "python",
   "pygments_lexer": "ipython3",
   "version": "3.10.0"
  },
  "orig_nbformat": 4,
  "vscode": {
   "interpreter": {
    "hash": "86ba12af8c92082f9a01e1b90654f6f416baf3db58f85b5ae7d4af2bb3430c23"
   }
  }
 },
 "nbformat": 4,
 "nbformat_minor": 2
}
