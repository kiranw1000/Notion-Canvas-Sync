{
 "cells": [
  {
   "cell_type": "code",
   "execution_count": 1,
   "metadata": {},
   "outputs": [],
   "source": [
    "from canvasapi import Canvas, assignment\n",
    "import canvasapi as cnv\n",
    "from tokens import canvas_token, notion_token\n",
    "from notion_client import Client\n",
    "from datetime import datetime,timedelta\n",
    "import pytz"
   ]
  },
  {
   "cell_type": "code",
   "execution_count": 22,
   "metadata": {},
   "outputs": [],
   "source": [
    "nclient = Client(auth=notion_token)\n",
    "API_URL = \"https://osu.instructure.com/\"\n",
    "API_KEY = canvas_token\n",
    "canvas = Canvas(API_URL,API_KEY)\n",
    "kiran = canvas.get_current_user()\n",
    "courses = []\n",
    "enrollment_term_id = 164\n",
    "for course in kiran.get_courses():\n",
    "    if course.__dict__['enrollment_term_id'] == enrollment_term_id:\n",
    "        courses.append(course)\n",
    "db_id = \"57c6c1fdb5b54861af2fb7787344b4fc\"\n",
    "subjects = {\n",
    "     'AU22 CSE 2221 - SW 1: Components (35445)':{'id': '8d669188-3c5e-4fea-84e4-2cb3fcf74ca8','name': 'Software Engineering 2221','color': 'yellow'},\n",
    "     'AU22 ENGR 1181.01 - Fund Engr 1 (7063)':{'id': '9ff6a39b-c700-4ab7-9d66-29d963f01e8f','name': 'Intro to Engineering','color': 'green'},\n",
    "     'AU22 ARTSSCI 1100.01H - ASC College Survey (15218)':{'id': 'e18cd657-84af-4152-a783-be92991ca93b','name': 'Art Sci Survey','color': 'default'},\n",
    "     'AU22 PHYSICS 1250H - Mechanics, Spc Rel (20281)':{'id': '6dcb6cd3-3d2c-46d5-a070-f6f8bdb6969c','name': 'Physics 1250H','color': 'purple'},\n",
    "     'AU22 MATH 2153 - Calculus 3 (18401)':{'id': '85591cad-2e1b-44f7-b06f-05f45a081c95','name': 'Calc 2153','color': 'red'},\n",
    "     'AU22 ARTSSCI 1138.07 - First-Year Seminar (26389)':{'id': 'f4a7698c-1bd1-45b5-8474-db25bad5eee3','name': 'Stoicism','color': 'gray'}}"
   ]
  },
  {
   "cell_type": "code",
   "execution_count": 35,
   "metadata": {},
   "outputs": [],
   "source": [
    "def get_schema(assignment:assignment,subject_dict:dict,course:str):\n",
    "    backlog = {'id': '1', 'name': 'Backlog', 'color': 'red'}\n",
    "    week_backlog = {'id': '2', 'name': 'Week Backlog', 'color': 'yellow'} \n",
    "    status = \"\"\n",
    "    if assignment.due_at_date.date()-datetime.today().date()<=timedelta(days=7):\n",
    "        status = week_backlog\n",
    "    else:\n",
    "        status = backlog\n",
    "    if course in subject_dict.keys():\n",
    "        subject = subject_dict[course]\n",
    "    else:\n",
    "        subject = {'name':course}\n",
    "    schema = {\n",
    "    \"Status\":{\"select\": status},\n",
    "    'Name': {\"title\": [{\"type\":\"text\",\"text\":{\"content\":assignment.name}}]},\n",
    "    \"Subject\":{\"select\":subject},\n",
    "    \"Due Date\":{\"date\":{\"start\":datetime.strptime(assignment.due_at,\"%Y-%m-%dT%H:%M:%S%z\").astimezone(pytz.timezone('US/Eastern')).strftime(\"%Y-%m-%dT%H:%M:%S%z\")}},\n",
    "    \"Link\":{\"url\":assignment.html_url},\n",
    "    \"Time to complete\":{\"select\":{'id': 'b261419e-254f-44b9-8788-1532a54646fb','name': 'About an hour','color': 'red'}}\n",
    "    }\n",
    "    return schema"
   ]
  },
  {
   "cell_type": "code",
   "execution_count": 36,
   "metadata": {},
   "outputs": [],
   "source": [
    "def add_assignment(assignment:assignment,subject_dict:dict,course:str):\n",
    "    return nclient.pages.create(**{\"parent\":{\"type\":\"database_id\",\"database_id\":db_id},\"properties\":get_schema(assignment,subjects,course)})\n"
   ]
  },
  {
   "cell_type": "code",
   "execution_count": 34,
   "metadata": {},
   "outputs": [],
   "source": [
    "def update_course(course:cnv.course.Course,subject_dict:dict):\n",
    "    course_assignments = [y for y in kiran.get_assignments(course)]\n",
    "    for x in course_assignments:\n",
    "        if course.name in subject_dict.keys():\n",
    "            subject = subject_dict[course.name]['name']\n",
    "        else:\n",
    "            subject = course.name\n",
    "        if len(nclient.databases.query(**{\"database_id\":db_id,\"filter\":{\"and\":[{\"property\":\"Name\",\"title\":{\"contains\":x.name}},{\"property\":\"Subject\",\"select\":{\"equals\":subject}}]}})['results'])<1 and '''x.get_submission(kiran).submitted_at==None''' and x.due_at!=None:\n",
    "            print(x)\n",
    "            print(add_assignment(assignment=x,subject_dict=subject_dict,course=course.name)['properties']['Name'])"
   ]
  },
  {
   "cell_type": "code",
   "execution_count": 37,
   "metadata": {},
   "outputs": [],
   "source": [
    "def update_all(courses:list,subject_dict:dict):\n",
    "    backlog = {'id': '1', 'name': 'Backlog', 'color': 'red'}\n",
    "    week_backlog = {'id': '2', 'name': 'Week Backlog', 'color': 'yellow'} \n",
    "    backloglist = nclient.databases.query(**{\"database_id\":db_id,\"filter\":{\"property\":\"Status\",\"select\":{\"equals\":\"Backlog\"}}})['results']\n",
    "    for page in backloglist:\n",
    "        date = datetime.fromisoformat(page['properties']['Due Date']['date']['start'])\n",
    "        if date.date()-datetime.today().date()<timedelta(days=7):\n",
    "            nclient.pages.update(page['id'],**{'properties':{'Status':{'select':week_backlog}}})\n",
    "    for x in courses:\n",
    "        update_course(x,subject_dict)"
   ]
  },
  {
   "cell_type": "code",
   "execution_count": 38,
   "metadata": {},
   "outputs": [
    {
     "name": "stdout",
     "output_type": "stream",
     "text": [
      "Introduce yourself (3288089)\n",
      "{'id': 'title', 'type': 'title', 'title': [{'type': 'text', 'text': {'content': 'Introduce yourself', 'link': None}, 'annotations': {'bold': False, 'italic': False, 'strikethrough': False, 'underline': False, 'code': False, 'color': 'default'}, 'plain_text': 'Introduce yourself', 'href': None}]}\n",
      "Syllabus Quiz (3282913)\n",
      "{'id': 'title', 'type': 'title', 'title': [{'type': 'text', 'text': {'content': 'Syllabus Quiz', 'link': None}, 'annotations': {'bold': False, 'italic': False, 'strikethrough': False, 'underline': False, 'code': False, 'color': 'default'}, 'plain_text': 'Syllabus Quiz', 'href': None}]}\n",
      "Participation Roster Attendance Quiz (3301514)\n",
      "{'id': 'title', 'type': 'title', 'title': [{'type': 'text', 'text': {'content': 'Participation Roster Attendance Quiz', 'link': None}, 'annotations': {'bold': False, 'italic': False, 'strikethrough': False, 'underline': False, 'code': False, 'color': 'default'}, 'plain_text': 'Participation Roster Attendance Quiz', 'href': None}]}\n"
     ]
    }
   ],
   "source": [
    "update_all(courses=courses,subject_dict=subjects)"
   ]
  },
  {
   "cell_type": "code",
   "execution_count": 303,
   "metadata": {},
   "outputs": [],
   "source": [
    "def add_links(course:cnv.course.Course):\n",
    "    course_assignments = [y for y in kiran.get_assignments(course)]\n",
    "    for x in course_assignments:\n",
    "        if x.get_submission(kiran).submitted_at == None and x.due_at!=None:\n",
    "            print(x)\n",
    "            page = nclient.databases.query(**{\"database_id\":db_id,\"filter\":{\"property\":\"Name\",\"title\":{\"contains\":x.name}}})['results'][0]\n",
    "            nclient.pages.update(page['id'],**{'properties':{'Link':{'url':x.html_url}}})"
   ]
  },
  {
   "cell_type": "code",
   "execution_count": 57,
   "metadata": {},
   "outputs": [],
   "source": [
    "def update_times(course:cnv.course.Course):\n",
    "    course_assignments = [y for y in kiran.get_assignments(course)]\n",
    "    for x in course_assignments:\n",
    "        if x.get_submission(kiran).submitted_at == None and x.due_at!=None:\n",
    "            print(x)\n",
    "            page = nclient.databases.query(**{\"database_id\":db_id,\"filter\":{\"and\":[{\"property\":\"Name\",\"title\":{\"contains\":x.name}},{\"property\":\"Subject\",\"select\":{\"equals\":subjects[course.name]['name']}}]}})['results'][0]\n",
    "            nclient.pages.update(page['id'],**{'properties':{'Due Date':{\"date\":{\"start\":datetime.strptime(x.due_at,\"%Y-%m-%dT%H:%M:%S%z\").astimezone(pytz.timezone('US/Eastern')).strftime(\"%Y-%m-%dT%H:%M:%S%z\")}}}})"
   ]
  }
 ],
 "metadata": {
  "kernelspec": {
   "display_name": "Python 3.10.0 ('p310')",
   "language": "python",
   "name": "python3"
  },
  "language_info": {
   "codemirror_mode": {
    "name": "ipython",
    "version": 3
   },
   "file_extension": ".py",
   "mimetype": "text/x-python",
   "name": "python",
   "nbconvert_exporter": "python",
   "pygments_lexer": "ipython3",
   "version": "3.10.0"
  },
  "orig_nbformat": 4,
  "vscode": {
   "interpreter": {
    "hash": "86ba12af8c92082f9a01e1b90654f6f416baf3db58f85b5ae7d4af2bb3430c23"
   }
  }
 },
 "nbformat": 4,
 "nbformat_minor": 2
}
