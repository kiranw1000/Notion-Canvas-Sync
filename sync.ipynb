{
 "cells": [
  {
   "cell_type": "code",
   "execution_count": 1,
   "metadata": {},
   "outputs": [],
   "source": [
    "from notion_client import Client\n",
    "from canvasapi import Canvas, assignment\n",
    "import canvasapi as cnv\n",
    "from tokens import *\n",
    "from datetime import datetime,timedelta\n",
    "import pytz"
   ]
  },
  {
   "cell_type": "code",
   "execution_count": 2,
   "metadata": {},
   "outputs": [],
   "source": [
    "nclient = Client(auth=notion_token)\n",
    "API_KEY = canvas_token\n",
    "canvas = Canvas(API_URL,API_KEY)\n",
    "cnvclient = canvas.get_current_user()\n",
    "courses = []\n",
    "enrollment_term_id = 164\n",
    "for course in cnvclient.get_courses():\n",
    "    if course.__dict__['enrollment_term_id'] == enrollment_term_id:\n",
    "        courses.append(course)\n",
    "subjects = {}"
   ]
  },
  {
   "cell_type": "code",
   "execution_count": 16,
   "metadata": {},
   "outputs": [],
   "source": [
    "marker = nclient.databases.query(**{\"database_id\":db_id,\"filter\":{\"property\":\"Name\",\"title\":{\"equals\":\"Marker\"}}})['results'][0]"
   ]
  },
  {
   "cell_type": "code",
   "execution_count": 9,
   "metadata": {},
   "outputs": [
    {
     "data": {
      "text/plain": [
       "{'Due Date': {'id': '%3CL%5B%60', 'type': 'date', 'date': None},\n",
       " 'Scheduled Date': {'id': 'F%3Dd%3A', 'type': 'date', 'date': None},\n",
       " 'Link': {'id': 'F%7CBr', 'type': 'url', 'url': None},\n",
       " 'Blocked by': {'id': 'I%7COD',\n",
       "  'type': 'relation',\n",
       "  'relation': [],\n",
       "  'has_more': False},\n",
       " 'Project': {'id': 'N%7DUj',\n",
       "  'type': 'relation',\n",
       "  'relation': [],\n",
       "  'has_more': False},\n",
       " 'Subject': {'id': '%60QUQ', 'type': 'select', 'select': None},\n",
       " 'Time to complete': {'id': 'i%3D%7Bc',\n",
       "  'type': 'select',\n",
       "  'select': {'id': 'b261419e-254f-44b9-8788-1532a54646fb',\n",
       "   'name': 'About an hour',\n",
       "   'color': 'red'}},\n",
       " 'Blocking': {'id': 'p%3FZ%3D',\n",
       "  'type': 'relation',\n",
       "  'relation': [],\n",
       "  'has_more': False},\n",
       " 'Completion Progress': {'id': 'pC%7D%3E', 'type': 'number', 'number': None},\n",
       " 'Status': {'id': 'yVNV',\n",
       "  'type': 'status',\n",
       "  'status': {'id': '2', 'name': 'Week Backlog', 'color': 'yellow'}},\n",
       " 'Name': {'id': 'title',\n",
       "  'type': 'title',\n",
       "  'title': [{'type': 'text',\n",
       "    'text': {'content': 'Marker', 'link': None},\n",
       "    'annotations': {'bold': False,\n",
       "     'italic': False,\n",
       "     'strikethrough': False,\n",
       "     'underline': False,\n",
       "     'code': False,\n",
       "     'color': 'default'},\n",
       "    'plain_text': 'Marker',\n",
       "    'href': None}]}}"
      ]
     },
     "execution_count": 9,
     "metadata": {},
     "output_type": "execute_result"
    }
   ],
   "source": [
    "marker[0][\"properties\"]"
   ]
  },
  {
   "cell_type": "code",
   "execution_count": 10,
   "metadata": {},
   "outputs": [],
   "source": [
    "def get_schema(assignment:assignment,subject_dict:dict,course:str):\n",
    "    if course in subject_dict.keys():\n",
    "        subject = subject_dict[course]\n",
    "    else:\n",
    "        subject = {'name':course}\n",
    "    schema = marker[\"properties\"]\n",
    "    schema.update({\n",
    "    'Name': {\"title\": [{\"type\":\"text\",\"text\":{\"content\":assignment.name}}]},\n",
    "    \"Subject\":{\"select\":subject},\n",
    "    \"Due Date\":{\"date\":{\"start\":datetime.strptime(assignment.due_at,\"%Y-%m-%dT%H:%M:%S%z\").astimezone(pytz.timezone('US/Eastern')).strftime(\"%Y-%m-%dT%H:%M:%S%z\")}},\n",
    "    \"Link\":{\"url\":assignment.html_url},\n",
    "    })\n",
    "    return schema"
   ]
  },
  {
   "cell_type": "code",
   "execution_count": 11,
   "metadata": {},
   "outputs": [],
   "source": [
    "def add_assignment(assignment:assignment,subject_dict:dict,course:str):\n",
    "    return nclient.pages.create(**{\"parent\":{\"type\":\"database_id\",\"database_id\":db_id},\"properties\":get_schema(assignment,subjects,course)})\n"
   ]
  },
  {
   "cell_type": "code",
   "execution_count": 12,
   "metadata": {},
   "outputs": [],
   "source": [
    "def update_course(course:cnv.course.Course,subject_dict:dict):\n",
    "    course_assignments = [y for y in cnvclient.get_assignments(course)]\n",
    "    for x in course_assignments:\n",
    "        if course.name in subject_dict.keys():\n",
    "            subject = subject_dict[course.name]['name']\n",
    "        else:\n",
    "            subject = course.name\n",
    "        if len(nclient.databases.query(**{\"database_id\":db_id,\"filter\":{\"and\":[{\"property\":\"Name\",\"title\":{\"contains\":x.name}},{\"property\":\"Subject\",\"select\":{\"equals\":subject}}]}})['results'])<1 and '''x.get_submission(kiran).submitted_at==None''' and x.due_at!=None:\n",
    "            print(x)\n",
    "            print(add_assignment(assignment=x,subject_dict=subject_dict,course=course.name)['properties']['Name'])"
   ]
  },
  {
   "cell_type": "code",
   "execution_count": null,
   "metadata": {},
   "outputs": [],
   "source": [
    "def update_all(courses:list,subject_dict:dict):\n",
    "    backlog = \"Backlog\"\n",
    "    week_backlog = \"Week Backlog\"\n",
    "    backloglist = nclient.databases.query(**{\"database_id\":db_id,\"filter\":{\"property\":\"Status\",\"status\":{\"equals\":\"Backlog\"}}})['results']\n",
    "    for page in backloglist:\n",
    "        date = datetime.fromisoformat(page['properties']['Due Date']['date']['start'])\n",
    "        if date.date()-datetime.today().date()<timedelta(days=7):\n",
    "            nclient.pages.update(page['id'],**{'properties':{'Status':{'status':{'name':week_backlog}}},\"sorts\":[{\"property\":\"Due Date\",\"direction\":\"ascending\"}]})\n",
    "    for x in courses:\n",
    "        update_course(x,subject_dict)"
   ]
  },
  {
   "cell_type": "code",
   "execution_count": null,
   "metadata": {},
   "outputs": [],
   "source": [
    "nclient.databases.__module__"
   ]
  },
  {
   "cell_type": "code",
   "execution_count": null,
   "metadata": {},
   "outputs": [],
   "source": [
    "backloglist = nclient.databases.query(**{\"database_id\":db_id,\"filter\":{\"property\":\"Status\",\"status\":{\"equals\":\"Backlog\"}},\"sorts\":[{\"property\":\"Due Date\",\"direction\":\"ascending\"}]})['results']"
   ]
  },
  {
   "cell_type": "code",
   "execution_count": null,
   "metadata": {},
   "outputs": [],
   "source": [
    "weekbackloglist = nclient.databases.query(**{\"database_id\":db_id,\"filter\":{\"property\":\"Status\",\"status\":{\"equals\":\"Week Backlog\"}}})['results']"
   ]
  },
  {
   "cell_type": "code",
   "execution_count": null,
   "metadata": {},
   "outputs": [],
   "source": [
    "nclient.databases.query(**{\"database_id\":db_id,\"filter\":{\"property\":\"Name\",\"title\":{\"contains\":\"PD1 - Problem Definition: User Persona & Pains\"}}})['results'][0]['properties']['Status']['status'] == backloglist[0]['properties']['Status']['status']"
   ]
  },
  {
   "cell_type": "code",
   "execution_count": null,
   "metadata": {},
   "outputs": [],
   "source": [
    "for x in weekbackloglist:\n",
    "    print(x['properties']['Name']['title'][0]['plain_text'])"
   ]
  },
  {
   "cell_type": "code",
   "execution_count": null,
   "metadata": {},
   "outputs": [],
   "source": [
    "print(len(backloglist))"
   ]
  },
  {
   "cell_type": "code",
   "execution_count": null,
   "metadata": {},
   "outputs": [],
   "source": [
    "for x in backloglist:\n",
    "    print(x['properties']['Name']['title'][0]['plain_text'])"
   ]
  },
  {
   "cell_type": "code",
   "execution_count": null,
   "metadata": {},
   "outputs": [],
   "source": [
    "update_all(courses=courses,subject_dict=subjects)"
   ]
  },
  {
   "cell_type": "code",
   "execution_count": null,
   "metadata": {},
   "outputs": [],
   "source": [
    "backloglist[1]"
   ]
  },
  {
   "cell_type": "code",
   "execution_count": null,
   "metadata": {},
   "outputs": [],
   "source": [
    "def add_links(course:cnv.course.Course):\n",
    "    course_assignments = [y for y in kiran.get_assignments(course)]\n",
    "    for x in course_assignments:\n",
    "        if x.get_submission(kiran).submitted_at == None and x.due_at!=None:\n",
    "            print(x)\n",
    "            page = nclient.databases.query(**{\"database_id\":db_id,\"filter\":{\"property\":\"Name\",\"title\":{\"contains\":x.name}}})['results'][0]\n",
    "            nclient.pages.update(page['id'],**{'properties':{'Link':{'url':x.html_url}}})"
   ]
  },
  {
   "cell_type": "code",
   "execution_count": null,
   "metadata": {},
   "outputs": [],
   "source": [
    "def update_times(course:cnv.course.Course):\n",
    "    course_assignments = [y for y in kiran.get_assignments(course)]\n",
    "    for x in course_assignments:\n",
    "        if x.get_submission(kiran).submitted_at == None and x.due_at!=None:\n",
    "            print(x)\n",
    "            page = nclient.databases.query(**{\"database_id\":db_id,\"filter\":{\"and\":[{\"property\":\"Name\",\"title\":{\"contains\":x.name}},{\"property\":\"Subject\",\"select\":{\"equals\":subjects[course.name]['name']}}]}})['results'][0]\n",
    "            nclient.pages.update(page['id'],**{'properties':{'Due Date':{\"date\":{\"start\":datetime.strptime(x.due_at,\"%Y-%m-%dT%H:%M:%S%z\").astimezone(pytz.timezone('US/Eastern')).strftime(\"%Y-%m-%dT%H:%M:%S%z\")}}}})"
   ]
  },
  {
   "cell_type": "code",
   "execution_count": null,
   "metadata": {},
   "outputs": [],
   "source": [
    "def find_duplicates(course_list):\n",
    "    for c in course_list:\n",
    "        course_assignments = [y for y in kiran.get_assignments(c)]\n",
    "        for x in course_assignments:\n",
    "            subject = c.name\n",
    "            if len(nclient.databases.query(**{\"database_id\":db_id,\"filter\":{\"and\":[{\"property\":\"Name\",\"title\":{\"contains\":x.name}},{\"property\":\"Subject\",\"select\":{\"equals\":subject}}]}})['results'])>0 and '''x.get_submission(kiran).submitted_at==None''' and x.due_at!=None:\n",
    "                print(x)"
   ]
  },
  {
   "cell_type": "code",
   "execution_count": null,
   "metadata": {},
   "outputs": [],
   "source": [
    "def remove_duplicates(course_list):\n",
    "    for c in course_list:\n",
    "        course_assignments = [y for y in kiran.get_assignments(c)]\n",
    "        for x in course_assignments:\n",
    "            subject = c.name\n",
    "            qresults = nclient.databases.query(**{\"database_id\":db_id,\"filter\":{\"and\":[{\"property\":\"Name\",\"title\":{\"contains\":x.name}},{\"property\":\"Subject\",\"select\":{\"equals\":subject}}]}})['results']\n",
    "            if len(qresults)>1 and '''x.get_submission(kiran).submitted_at==None''' and x.due_at!=None:\n",
    "                for x in range(len(qresults)-1):\n",
    "                    currentpage = nclient.pages.update(qresults[x]['id'],**{'archived':True})"
   ]
  }
 ],
 "metadata": {
  "kernelspec": {
   "display_name": "Python 3.10.0 ('p310')",
   "language": "python",
   "name": "python3"
  },
  "language_info": {
   "codemirror_mode": {
    "name": "ipython",
    "version": 3
   },
   "file_extension": ".py",
   "mimetype": "text/x-python",
   "name": "python",
   "nbconvert_exporter": "python",
   "pygments_lexer": "ipython3",
   "version": "3.11.7"
  },
  "orig_nbformat": 4,
  "vscode": {
   "interpreter": {
    "hash": "86ba12af8c92082f9a01e1b90654f6f416baf3db58f85b5ae7d4af2bb3430c23"
   }
  }
 },
 "nbformat": 4,
 "nbformat_minor": 2
}
