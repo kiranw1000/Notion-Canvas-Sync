{
 "cells": [
  {
   "cell_type": "code",
   "execution_count": 2,
   "metadata": {},
   "outputs": [],
   "source": [
    "from canvasapi import Canvas, assignment\n",
    "import canvasapi as cnv\n",
    "from tokens import canvas_token, notion_token\n",
    "from notion_client import Client\n",
    "from datetime import datetime,timedelta\n",
    "import pytz"
   ]
  },
  {
   "cell_type": "code",
   "execution_count": 3,
   "metadata": {},
   "outputs": [],
   "source": [
    "nclient = Client(auth=notion_token)\n",
    "API_URL = \"https://osu.instructure.com/\"\n",
    "API_KEY = canvas_token\n",
    "canvas = Canvas(API_URL,API_KEY)\n",
    "kiran = canvas.get_current_user()\n",
    "courses = []\n",
    "enrollment_term_id = 164\n",
    "for course in kiran.get_courses():\n",
    "    if course.__dict__['enrollment_term_id'] == enrollment_term_id:\n",
    "        courses.append(course)\n",
    "db_id = \"57c6c1fdb5b54861af2fb7787344b4fc\"\n",
    "subjects = {}"
   ]
  },
  {
   "cell_type": "code",
   "execution_count": 68,
   "metadata": {},
   "outputs": [
    {
     "data": {
      "text/plain": [
       "{'object': 'database',\n",
       " 'id': '57c6c1fd-b5b5-4861-af2f-b7787344b4fc',\n",
       " 'cover': {'type': 'external',\n",
       "  'external': {'url': 'https://www.notion.so/images/page-cover/woodcuts_3.jpg'}},\n",
       " 'icon': {'type': 'emoji', 'emoji': '🎒'},\n",
       " 'created_time': '2021-09-28T02:20:00.000Z',\n",
       " 'created_by': {'object': 'user',\n",
       "  'id': 'bcd9f059-dbe8-44c2-8252-3c94a76e3e36'},\n",
       " 'last_edited_by': {'object': 'user',\n",
       "  'id': 'bcd9f059-dbe8-44c2-8252-3c94a76e3e36'},\n",
       " 'last_edited_time': '2023-01-23T12:06:00.000Z',\n",
       " 'title': [{'type': 'text',\n",
       "   'text': {'content': 'General Assignments', 'link': None},\n",
       "   'annotations': {'bold': False,\n",
       "    'italic': False,\n",
       "    'strikethrough': False,\n",
       "    'underline': False,\n",
       "    'code': False,\n",
       "    'color': 'default'},\n",
       "   'plain_text': 'General Assignments',\n",
       "   'href': None}],\n",
       " 'description': [],\n",
       " 'is_inline': True,\n",
       " 'properties': {'Due Date': {'id': '%3CL%5B%60',\n",
       "   'name': 'Due Date',\n",
       "   'type': 'date',\n",
       "   'date': {}},\n",
       "  'Scheduled Date': {'id': 'F%3Dd%3A',\n",
       "   'name': 'Scheduled Date',\n",
       "   'type': 'date',\n",
       "   'date': {}},\n",
       "  'Link': {'id': 'F%7CBr', 'name': 'Link', 'type': 'url', 'url': {}},\n",
       "  'Subject': {'id': '%60QUQ',\n",
       "   'name': 'Subject',\n",
       "   'type': 'select',\n",
       "   'select': {'options': [{'id': '61b90a47-9a11-46ea-9f4a-df61580820dd',\n",
       "      'name': 'Not started',\n",
       "      'color': 'default'},\n",
       "     {'id': '8227a232-c5fb-4e01-b345-6d1d9eff890f',\n",
       "      'name': 'TeachAids',\n",
       "      'color': 'blue'},\n",
       "     {'id': '37f659f6-cdfc-42f7-bfdf-e87820a36810',\n",
       "      'name': 'Internships',\n",
       "      'color': 'orange'},\n",
       "     {'id': 'b1051ad1-d157-4b95-9fd8-32a95f82de20',\n",
       "      'name': 'Work',\n",
       "      'color': 'brown'},\n",
       "     {'id': '7f0a2282-7d65-4860-8fa4-c63c8b6f32c1',\n",
       "      'name': 'Gym',\n",
       "      'color': 'gray'},\n",
       "     {'id': '72ec38b3-60f0-464f-a62d-5cb340f6faf1',\n",
       "      'name': 'Personal',\n",
       "      'color': 'purple'},\n",
       "     {'id': '9c3117b7-df65-4480-bff9-182cde137a00',\n",
       "      'name': 'BOSS 2022',\n",
       "      'color': 'purple'},\n",
       "     {'id': '0c505000-46ac-4de6-bbef-9ead3e3fca9b',\n",
       "      'name': 'SP23 MATH 2568 - Linear Algebra (29228)',\n",
       "      'color': 'red'},\n",
       "     {'id': '49af1d97-a737-464a-b4af-4531e5f41c57',\n",
       "      'name': 'SP23 COMM 2367 - Persuasive Comm (36035)',\n",
       "      'color': 'orange'},\n",
       "     {'id': '67859e4e-73af-4cb2-a325-bd3f6f365ddb',\n",
       "      'name': 'SP23 STAT 3470.01 - Intro Stat Eng (20905)',\n",
       "      'color': 'blue'},\n",
       "     {'id': '5c15178d-d868-481c-aa46-1f56cf973b2d',\n",
       "      'name': 'SP23 CSE 2231 - SW 2: Dev & Dsgn (7252)',\n",
       "      'color': 'default'},\n",
       "     {'id': 'd42bdb1a-384a-4239-82c1-60aa97ff2c21',\n",
       "      'name': 'SP23 ENGR 1182.01 - Fund Engr 2 (8231)',\n",
       "      'color': 'purple'},\n",
       "     {'id': 'c5864e0c-15ff-4a0b-bd0d-d1b02106f953',\n",
       "      'name': 'In progress',\n",
       "      'color': 'blue'},\n",
       "     {'id': '01865c36-0a49-4492-a25d-83634db36568',\n",
       "      'name': 'Done',\n",
       "      'color': 'green'},\n",
       "     {'id': 'nsz:', 'name': 'Physics', 'color': 'default'},\n",
       "     {'id': '\\\\Rf\\\\', 'name': 'Intro to Engineering', 'color': 'default'},\n",
       "     {'id': '|cSo', 'name': 'College', 'color': 'default'},\n",
       "     {'id': 'Dn\\\\E', 'name': 'Physics 1250H', 'color': 'default'},\n",
       "     {'id': 'xQMn', 'name': 'Calc', 'color': 'default'},\n",
       "     {'id': 'rk{}', 'name': 'Calc 2153', 'color': 'default'},\n",
       "     {'id': 'tQsT', 'name': 'Systems Administration', 'color': 'default'},\n",
       "     {'id': '_=Wi', 'name': 'Psychology', 'color': 'default'},\n",
       "     {'id': 'rM=Y', 'name': 'Art Sci Survey', 'color': 'default'},\n",
       "     {'id': 'Vh~{', 'name': 'Applied Machine Learning', 'color': 'default'},\n",
       "     {'id': '>TXF', 'name': 'Web Dev', 'color': 'default'},\n",
       "     {'id': 'AjUD',\n",
       "      'name': 'Data Technologies Programming',\n",
       "      'color': 'default'},\n",
       "     {'id': 'wW~e', 'name': 'Software Engineering 2221', 'color': 'default'},\n",
       "     {'id': 'EkYI', 'name': 'Literature', 'color': 'default'},\n",
       "     {'id': 'gziB',\n",
       "      'name': 'A+ Research: Where Do You Start? Nov 22',\n",
       "      'color': 'default'},\n",
       "     {'id': 'lVIR',\n",
       "      'name': 'Accessing Your Library AU22 FYSS',\n",
       "      'color': 'default'},\n",
       "     {'id': 'EzLq', 'name': 'Coding Classes', 'color': 'default'},\n",
       "     {'id': 'tMvk', 'name': 'Stock Price Model', 'color': 'default'},\n",
       "     {'id': 'Fg^l', 'name': 'Xavier', 'color': 'default'},\n",
       "     {'id': 'B:AH', 'name': 'BOSS', 'color': 'default'},\n",
       "     {'id': '{`LK', 'name': 'Stoicism', 'color': 'default'},\n",
       "     {'id': '975b3f90-0cdf-4dd0-a976-32aebdb36700',\n",
       "      'name': 'SP23 CSE 2321 - Fndns 1: Discr Str (7193)',\n",
       "      'color': 'yellow'}]}},\n",
       "  'Time to complete': {'id': 'i%3D%7Bc',\n",
       "   'name': 'Time to complete',\n",
       "   'type': 'select',\n",
       "   'select': {'options': [{'id': 'b261419e-254f-44b9-8788-1532a54646fb',\n",
       "      'name': 'About an hour',\n",
       "      'color': 'red'},\n",
       "     {'id': 'b7fef5dd-749b-43c5-ae19-64dd72e685f9',\n",
       "      'name': 'less than 15 min',\n",
       "      'color': 'brown'},\n",
       "     {'id': '20cb7936-41e5-4ffc-9a8f-f285f7d098d1',\n",
       "      'name': '15-30 min',\n",
       "      'color': 'purple'},\n",
       "     {'id': '892609f3-169c-4197-ab04-00a334b653d3',\n",
       "      'name': 'More than an hour and a half',\n",
       "      'color': 'orange'}]}},\n",
       "  'Completion Progress': {'id': 'pC%7D%3E',\n",
       "   'name': 'Completion Progress',\n",
       "   'type': 'number',\n",
       "   'number': {'format': 'percent'}},\n",
       "  'Status': {'id': 'yVNV',\n",
       "   'name': 'Status',\n",
       "   'type': 'status',\n",
       "   'status': {'options': [{'id': '1', 'name': 'Backlog', 'color': 'red'},\n",
       "     {'id': '2', 'name': 'Week Backlog', 'color': 'yellow'},\n",
       "     {'id': '3', 'name': 'Monday', 'color': 'green'},\n",
       "     {'id': 'd43a8987-c30a-4c68-9a97-17469a5c1213',\n",
       "      'name': 'Tuesday',\n",
       "      'color': 'brown'},\n",
       "     {'id': 'a35940fa-816a-4aca-9e35-f6285d53e929',\n",
       "      'name': 'Wednesday',\n",
       "      'color': 'orange'},\n",
       "     {'id': '64b0323e-2990-4165-933a-118a5298cbd8',\n",
       "      'name': 'Thursday',\n",
       "      'color': 'purple'},\n",
       "     {'id': '0d766c51-5839-4321-98df-484e2c8f16a0',\n",
       "      'name': 'Friday',\n",
       "      'color': 'pink'},\n",
       "     {'id': '19d49779-9b13-41a9-a3c7-5c819d51062d',\n",
       "      'name': 'Saturday',\n",
       "      'color': 'gray'},\n",
       "     {'id': '2aecb98b-972f-4023-9230-cd15f80d07b0',\n",
       "      'name': 'Sunday',\n",
       "      'color': 'brown'},\n",
       "     {'id': '698c66e8-f4d4-41c4-b906-51777c1ad9da',\n",
       "      'name': 'Completed',\n",
       "      'color': 'blue'}],\n",
       "    'groups': [{'id': 'f64ac8e3-50da-483c-b1d7-a4723b390f29',\n",
       "      'name': 'To-do',\n",
       "      'color': 'gray',\n",
       "      'option_ids': ['1', '2']},\n",
       "     {'id': 'a671afc8-6674-4629-b829-ec656df98c54',\n",
       "      'name': 'In progress',\n",
       "      'color': 'blue',\n",
       "      'option_ids': ['3',\n",
       "       'd43a8987-c30a-4c68-9a97-17469a5c1213',\n",
       "       'a35940fa-816a-4aca-9e35-f6285d53e929',\n",
       "       '64b0323e-2990-4165-933a-118a5298cbd8',\n",
       "       '19d49779-9b13-41a9-a3c7-5c819d51062d',\n",
       "       '2aecb98b-972f-4023-9230-cd15f80d07b0',\n",
       "       '0d766c51-5839-4321-98df-484e2c8f16a0']},\n",
       "     {'id': '33ec5000-f589-43bf-88a6-e58778362e88',\n",
       "      'name': 'Complete',\n",
       "      'color': 'green',\n",
       "      'option_ids': ['698c66e8-f4d4-41c4-b906-51777c1ad9da']}]}},\n",
       "  'Name': {'id': 'title', 'name': 'Name', 'type': 'title', 'title': {}}},\n",
       " 'parent': {'type': 'page_id',\n",
       "  'page_id': '605392e5-dd87-4181-ac4f-78648ce0e233'},\n",
       " 'url': 'https://www.notion.so/57c6c1fdb5b54861af2fb7787344b4fc',\n",
       " 'archived': False}"
      ]
     },
     "execution_count": 68,
     "metadata": {},
     "output_type": "execute_result"
    }
   ],
   "source": [
    "nclient.databases.retrieve(db_id)"
   ]
  },
  {
   "cell_type": "code",
   "execution_count": 4,
   "metadata": {},
   "outputs": [],
   "source": [
    "def get_schema(assignment:assignment,subject_dict:dict,course:str):\n",
    "    status = \"\"\n",
    "    if assignment.due_at_date.date()-datetime.today().date()<=timedelta(days=7):\n",
    "        status = str(1)\n",
    "    else:\n",
    "        status = str(2)\n",
    "    if course in subject_dict.keys():\n",
    "        subject = subject_dict[course]\n",
    "    else:\n",
    "        subject = {'name':course}\n",
    "    schema = {\n",
    "    \"Status\":{\"status\":{\"id\":status}},\n",
    "    'Name': {\"title\": [{\"type\":\"text\",\"text\":{\"content\":assignment.name}}]},\n",
    "    \"Subject\":{\"select\":subject},\n",
    "    \"Due Date\":{\"date\":{\"start\":datetime.strptime(assignment.due_at,\"%Y-%m-%dT%H:%M:%S%z\").astimezone(pytz.timezone('US/Eastern')).strftime(\"%Y-%m-%dT%H:%M:%S%z\")}},\n",
    "    \"Link\":{\"url\":assignment.html_url},\n",
    "    \"Time to complete\":{\"select\":{'id': 'b261419e-254f-44b9-8788-1532a54646fb','name': 'About an hour','color': 'red'}}\n",
    "    }\n",
    "    return schema"
   ]
  },
  {
   "cell_type": "code",
   "execution_count": 6,
   "metadata": {},
   "outputs": [],
   "source": [
    "def add_assignment(assignment:assignment,subject_dict:dict,course:str):\n",
    "    return nclient.pages.create(**{\"parent\":{\"type\":\"database_id\",\"database_id\":db_id},\"properties\":get_schema(assignment,subjects,course)})\n"
   ]
  },
  {
   "cell_type": "code",
   "execution_count": 7,
   "metadata": {},
   "outputs": [],
   "source": [
    "def update_course(course:cnv.course.Course,subject_dict:dict):\n",
    "    course_assignments = [y for y in kiran.get_assignments(course)]\n",
    "    for x in course_assignments:\n",
    "        if course.name in subject_dict.keys():\n",
    "            subject = subject_dict[course.name]['name']\n",
    "        else:\n",
    "            subject = course.name\n",
    "        if len(nclient.databases.query(**{\"database_id\":db_id,\"filter\":{\"and\":[{\"property\":\"Name\",\"title\":{\"contains\":x.name}},{\"property\":\"Subject\",\"select\":{\"equals\":subject}}]}})['results'])<1 and '''x.get_submission(kiran).submitted_at==None''' and x.due_at!=None:\n",
    "            print(x)\n",
    "            print(add_assignment(assignment=x,subject_dict=subject_dict,course=course.name)['properties']['Name'])"
   ]
  },
  {
   "cell_type": "code",
   "execution_count": 16,
   "metadata": {},
   "outputs": [],
   "source": [
    "def update_all(courses:list,subject_dict:dict):\n",
    "    backlog = \"Backlog\"\n",
    "    week_backlog = \"Week Backlog\"\n",
    "    backloglist = nclient.databases.query(**{\"database_id\":db_id,\"filter\":{\"property\":\"Status\",\"status\":{\"equals\":\"Backlog\"}}})['results']\n",
    "    for page in backloglist:\n",
    "        date = datetime.fromisoformat(page['properties']['Due Date']['date']['start'])\n",
    "        if date.date()-datetime.today().date()<timedelta(days=7):\n",
    "            nclient.pages.update(page['id'],**{'properties':{'Status':{'status':{'name':week_backlog}}},\"sorts\":[{\"property\":\"Due Date\",\"direction\":\"ascending\"}]})\n",
    "    for x in courses:\n",
    "        update_course(x,subject_dict)"
   ]
  },
  {
   "cell_type": "code",
   "execution_count": 119,
   "metadata": {},
   "outputs": [
    {
     "data": {
      "text/plain": [
       "'notion_client.api_endpoints'"
      ]
     },
     "execution_count": 119,
     "metadata": {},
     "output_type": "execute_result"
    }
   ],
   "source": [
    "nclient.databases.__module__"
   ]
  },
  {
   "cell_type": "code",
   "execution_count": 131,
   "metadata": {},
   "outputs": [],
   "source": [
    "backloglist = nclient.databases.query(**{\"database_id\":db_id,\"filter\":{\"property\":\"Status\",\"status\":{\"equals\":\"Backlog\"}},\"sorts\":[{\"property\":\"Due Date\",\"direction\":\"ascending\"}]})['results']"
   ]
  },
  {
   "cell_type": "code",
   "execution_count": 103,
   "metadata": {},
   "outputs": [],
   "source": [
    "weekbackloglist = nclient.databases.query(**{\"database_id\":db_id,\"filter\":{\"property\":\"Status\",\"status\":{\"equals\":\"Week Backlog\"}}})['results']"
   ]
  },
  {
   "cell_type": "code",
   "execution_count": 82,
   "metadata": {},
   "outputs": [
    {
     "data": {
      "text/plain": [
       "True"
      ]
     },
     "execution_count": 82,
     "metadata": {},
     "output_type": "execute_result"
    }
   ],
   "source": [
    "nclient.databases.query(**{\"database_id\":db_id,\"filter\":{\"property\":\"Name\",\"title\":{\"contains\":\"PD1 - Problem Definition: User Persona & Pains\"}}})['results'][0]['properties']['Status']['status'] == backloglist[0]['properties']['Status']['status']"
   ]
  },
  {
   "cell_type": "code",
   "execution_count": 104,
   "metadata": {},
   "outputs": [
    {
     "name": "stdout",
     "output_type": "stream",
     "text": [
      "D03 - Empathy\n",
      "Syllabus Quiz 2\n",
      "Email Jim Davis\n"
     ]
    }
   ],
   "source": [
    "for x in weekbackloglist:\n",
    "    print(x['properties']['Name']['title'][0]['plain_text'])"
   ]
  },
  {
   "cell_type": "code",
   "execution_count": 132,
   "metadata": {},
   "outputs": [
    {
     "name": "stdout",
     "output_type": "stream",
     "text": [
      "100\n"
     ]
    }
   ],
   "source": [
    "print(len(backloglist))"
   ]
  },
  {
   "cell_type": "code",
   "execution_count": 133,
   "metadata": {},
   "outputs": [
    {
     "name": "stdout",
     "output_type": "stream",
     "text": [
      "PD3 - Creating Value: Gains & User Needs\n",
      "Homework #9\n",
      "Graphics App G02\n",
      "Graphics Prep G03\n",
      "Project #2\n",
      "Discussion 2: To Tell the Truth\n",
      "Homework #10\n",
      "PD4 - Market Character\n",
      "Homework #11\n",
      "D04 - How do you want people to think of you?\n",
      "TM3 - CATME Team Evaluation 1\n",
      "PD5 - Research Results & Value Proposition\n",
      "Homework #12\n",
      "Graphics Prep G04 Quiz\n",
      "Graphics App G03\n",
      "Graphics Prep G04\n",
      "Homework #13\n",
      "Project #3\n",
      "Homework #14\n",
      "P1 - Mission and Value Proposition\n",
      "D05 - Making the most of little time\n",
      "TM4 - Committee Meeting 1\n",
      "Problem Analysis Paper: DRAFT & Peer Review\n",
      "Homework #15\n",
      "Graphics App G04\n",
      "Graphics Prep G05\n",
      "Midterm Exam #1\n",
      "Homework #16\n",
      "R1 - Problem Definition Review\n",
      "CD1 - Concept Brainstorming & Ideation\n",
      "Project #4\n",
      "Problem Analysis Paper: FINAL\n",
      "Mid-Semester Instructional Team Evaluations\n",
      "TM5 - Project & Teamwork Check-In 1\n",
      "TM6 - Revised Team Working Agreement\n",
      "CD2 - Concept Selection\n",
      "Graphics Prep G06 Quiz\n",
      "Graphics App G05\n",
      "Graphics Prep G06\n",
      "Homework #17\n",
      "Homework #18\n",
      "pR&D Microcontrollers 1 Prep Quiz\n",
      "CD3 - Grand Concept & Prototyping Plan\n",
      "D06 - Pareto's Law\n",
      "pR&D Microcontrollers 2 Prep Quiz\n",
      "pR&D Microcontrollers 1 Post Lab\n",
      "Homework #19\n",
      "Graphics Prep G07 Quiz\n",
      "Graphics App G06\n",
      "Graphics Prep G07\n",
      "Project #5\n",
      "Homework #20\n",
      "pR&D Microcontrollers 2 Post Lab\n",
      "pR&D - Prototyping Guide \n",
      "pR&D - Machine Shop Safety Quiz\n",
      "Homework #21\n",
      "D07 - Priorities\n",
      "CD4 - Preliminary Prototype Design\n",
      "Homework #22\n",
      "Graphics Prep G08 - Designing for Rapid Prototyping (3D Printing & Laser Cutting) Quiz\n",
      "Graphics App G07\n",
      "Graphics Prep G08\n",
      "Homework #23\n",
      "Audience Analysis Discussion\n",
      "Project #6\n",
      "TM7 - CATME Team Evaluations 2\n",
      "pR&D SW Simulations Worksheet\n",
      "Activity #36\n",
      "D08: Battery Check\n",
      "P1.8 - Verification Plan \"Mini\" Presentation\n",
      "Homework #24\n",
      "Graphics Prep G09 Quiz\n",
      "Graphics App G08\n",
      "Graphics Prep G09\n",
      "Homework #25\n",
      "Media and Persuasion Speech\n",
      "Homework #26\n",
      "CD5 - Prototype Requirements & Verification Plan\n",
      "Project #7\n",
      "Homework #27\n",
      "TM8 - Committee Meeting 2\n",
      "D09: Growing Pains\n",
      "P2 - Grand Concept & Prototype Plan\n",
      "Homework #28\n",
      "Graphics App G09\n",
      "Graphics Prep G10\n",
      "Homework #29\n",
      "Homework #30\n",
      "Midterm Exam #2\n",
      "Comprehensive Exam\n",
      "TM9 - Project & Teamwork Check-In 2\n",
      "Problem, Solution, and Barriers: DRAFT & Peer Review\n",
      "R2 - Conceptual Design Review\n",
      "Homework #31\n",
      "DD1 - Project Management\n",
      "Homework #32\n",
      "Prototyping Workday 1 Meeting Minutes\n",
      "Homework #33\n",
      "Activity #47\n",
      "Project #8\n"
     ]
    }
   ],
   "source": [
    "for x in backloglist:\n",
    "    print(x['properties']['Name']['title'][0]['plain_text'])"
   ]
  },
  {
   "cell_type": "code",
   "execution_count": null,
   "metadata": {},
   "outputs": [],
   "source": [
    "update_all(courses=courses,subject_dict=subjects)"
   ]
  },
  {
   "cell_type": "code",
   "execution_count": 112,
   "metadata": {},
   "outputs": [
    {
     "data": {
      "text/plain": [
       "{'object': 'page',\n",
       " 'id': '1340570f-8662-486c-9717-ad4c86945fc3',\n",
       " 'created_time': '2023-01-20T16:41:00.000Z',\n",
       " 'last_edited_time': '2023-01-20T16:41:00.000Z',\n",
       " 'created_by': {'object': 'user',\n",
       "  'id': '6c910c0f-1f0f-432e-9e79-324309e6457f'},\n",
       " 'last_edited_by': {'object': 'user',\n",
       "  'id': '6c910c0f-1f0f-432e-9e79-324309e6457f'},\n",
       " 'cover': None,\n",
       " 'icon': None,\n",
       " 'parent': {'type': 'database_id',\n",
       "  'database_id': '57c6c1fd-b5b5-4861-af2f-b7787344b4fc'},\n",
       " 'archived': False,\n",
       " 'properties': {'Due Date': {'id': '%3CL%5B%60',\n",
       "   'type': 'date',\n",
       "   'date': {'start': '2023-03-08T11:10:00.000-05:00',\n",
       "    'end': None,\n",
       "    'time_zone': None}},\n",
       "  'Scheduled Date': {'id': 'F%3Dd%3A', 'type': 'date', 'date': None},\n",
       "  'Link': {'id': 'F%7CBr',\n",
       "   'type': 'url',\n",
       "   'url': 'https://osu.instructure.com/courses/139445/assignments/3264833'},\n",
       "  'Project': {'id': 'N%7DUj',\n",
       "   'type': 'relation',\n",
       "   'relation': [],\n",
       "   'has_more': False},\n",
       "  'Subject': {'id': '%60QUQ',\n",
       "   'type': 'select',\n",
       "   'select': {'id': 'd42bdb1a-384a-4239-82c1-60aa97ff2c21',\n",
       "    'name': 'SP23 ENGR 1182.01 - Fund Engr 2 (8231)',\n",
       "    'color': 'purple'}},\n",
       "  'Time to complete': {'id': 'i%3D%7Bc',\n",
       "   'type': 'select',\n",
       "   'select': {'id': 'b261419e-254f-44b9-8788-1532a54646fb',\n",
       "    'name': 'About an hour',\n",
       "    'color': 'red'}},\n",
       "  'Completion Progress': {'id': 'pC%7D%3E', 'type': 'number', 'number': None},\n",
       "  'Status': {'id': 'yVNV',\n",
       "   'type': 'status',\n",
       "   'status': {'id': '1', 'name': 'Backlog', 'color': 'red'}},\n",
       "  'Name': {'id': 'title',\n",
       "   'type': 'title',\n",
       "   'title': [{'type': 'text',\n",
       "     'text': {'content': 'Graphics Prep G08 - Designing for Rapid Prototyping (3D Printing & Laser Cutting) Quiz',\n",
       "      'link': None},\n",
       "     'annotations': {'bold': False,\n",
       "      'italic': False,\n",
       "      'strikethrough': False,\n",
       "      'underline': False,\n",
       "      'code': False,\n",
       "      'color': 'default'},\n",
       "     'plain_text': 'Graphics Prep G08 - Designing for Rapid Prototyping (3D Printing & Laser Cutting) Quiz',\n",
       "     'href': None}]}},\n",
       " 'url': 'https://www.notion.so/Graphics-Prep-G08-Designing-for-Rapid-Prototyping-3D-Printing-Laser-Cutting-Quiz-1340570f8662486c9717ad4c86945fc3'}"
      ]
     },
     "execution_count": 112,
     "metadata": {},
     "output_type": "execute_result"
    }
   ],
   "source": [
    "backloglist[1]"
   ]
  },
  {
   "cell_type": "code",
   "execution_count": 303,
   "metadata": {},
   "outputs": [],
   "source": [
    "def add_links(course:cnv.course.Course):\n",
    "    course_assignments = [y for y in kiran.get_assignments(course)]\n",
    "    for x in course_assignments:\n",
    "        if x.get_submission(kiran).submitted_at == None and x.due_at!=None:\n",
    "            print(x)\n",
    "            page = nclient.databases.query(**{\"database_id\":db_id,\"filter\":{\"property\":\"Name\",\"title\":{\"contains\":x.name}}})['results'][0]\n",
    "            nclient.pages.update(page['id'],**{'properties':{'Link':{'url':x.html_url}}})"
   ]
  },
  {
   "cell_type": "code",
   "execution_count": 57,
   "metadata": {},
   "outputs": [],
   "source": [
    "def update_times(course:cnv.course.Course):\n",
    "    course_assignments = [y for y in kiran.get_assignments(course)]\n",
    "    for x in course_assignments:\n",
    "        if x.get_submission(kiran).submitted_at == None and x.due_at!=None:\n",
    "            print(x)\n",
    "            page = nclient.databases.query(**{\"database_id\":db_id,\"filter\":{\"and\":[{\"property\":\"Name\",\"title\":{\"contains\":x.name}},{\"property\":\"Subject\",\"select\":{\"equals\":subjects[course.name]['name']}}]}})['results'][0]\n",
    "            nclient.pages.update(page['id'],**{'properties':{'Due Date':{\"date\":{\"start\":datetime.strptime(x.due_at,\"%Y-%m-%dT%H:%M:%S%z\").astimezone(pytz.timezone('US/Eastern')).strftime(\"%Y-%m-%dT%H:%M:%S%z\")}}}})"
   ]
  },
  {
   "cell_type": "code",
   "execution_count": 40,
   "metadata": {},
   "outputs": [],
   "source": [
    "def find_duplicates(course_list):\n",
    "    for c in course_list:\n",
    "        course_assignments = [y for y in kiran.get_assignments(c)]\n",
    "        for x in course_assignments:\n",
    "            subject = c.name\n",
    "            if len(nclient.databases.query(**{\"database_id\":db_id,\"filter\":{\"and\":[{\"property\":\"Name\",\"title\":{\"contains\":x.name}},{\"property\":\"Subject\",\"select\":{\"equals\":subject}}]}})['results'])>0 and '''x.get_submission(kiran).submitted_at==None''' and x.due_at!=None:\n",
    "                print(x)"
   ]
  },
  {
   "cell_type": "code",
   "execution_count": 53,
   "metadata": {},
   "outputs": [],
   "source": [
    "def remove_duplicates(course_list):\n",
    "    for c in course_list:\n",
    "        course_assignments = [y for y in kiran.get_assignments(c)]\n",
    "        for x in course_assignments:\n",
    "            subject = c.name\n",
    "            qresults = nclient.databases.query(**{\"database_id\":db_id,\"filter\":{\"and\":[{\"property\":\"Name\",\"title\":{\"contains\":x.name}},{\"property\":\"Subject\",\"select\":{\"equals\":subject}}]}})['results']\n",
    "            if len(qresults)>1 and '''x.get_submission(kiran).submitted_at==None''' and x.due_at!=None:\n",
    "                for x in range(len(qresults)-1):\n",
    "                    currentpage = nclient.pages.update(qresults[x]['id'],**{'archived':True})"
   ]
  }
 ],
 "metadata": {
  "kernelspec": {
   "display_name": "Python 3.10.0 ('p310')",
   "language": "python",
   "name": "python3"
  },
  "language_info": {
   "codemirror_mode": {
    "name": "ipython",
    "version": 3
   },
   "file_extension": ".py",
   "mimetype": "text/x-python",
   "name": "python",
   "nbconvert_exporter": "python",
   "pygments_lexer": "ipython3",
   "version": "3.10.0"
  },
  "orig_nbformat": 4,
  "vscode": {
   "interpreter": {
    "hash": "86ba12af8c92082f9a01e1b90654f6f416baf3db58f85b5ae7d4af2bb3430c23"
   }
  }
 },
 "nbformat": 4,
 "nbformat_minor": 2
}
